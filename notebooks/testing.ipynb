{
 "cells": [
  {
   "cell_type": "code",
   "id": "initial_id",
   "metadata": {
    "collapsed": true,
    "ExecuteTime": {
     "end_time": "2025-04-27T13:32:10.049078Z",
     "start_time": "2025-04-27T13:32:10.038786Z"
    }
   },
   "source": [
    "import spacy\n",
    "import pandas as pd\n",
    "from matplotlib import pyplot as plt\n",
    "import seaborn as sns\n",
    "from sklearn.inspection import DecisionBoundaryDisplay\n",
    "\n",
    "from FakeNews.Tokenizer import Tokenizer\n",
    "from FakeNews.Data import Data\n",
    "from FakeNews.Cleaner import Cleaner\n",
    "from FakeNews.Filter import Filter\n",
    "from FakeNews.Lemmatizer import Lemmatizer\n",
    "from FakeNews.Predictor import Predictor\n",
    "from sklearn.feature_extraction.text import TfidfVectorizer\n",
    "\n",
    "from sklearn.model_selection import GridSearchCV\n",
    "from sklearn.model_selection import train_test_split as tts\n",
    "from sklearn.decomposition import PCA\n",
    "from sklearn.decomposition import NMF\n",
    "\n",
    "from sklearn.svm import SVC\n",
    "from sklearn.cluster import KMeans\n",
    "from sklearn.neighbors import KNeighborsClassifier\n",
    "\n",
    "from sklearn.pipeline import Pipeline\n",
    "from sklearn.compose import ColumnTransformer"
   ],
   "outputs": [],
   "execution_count": 49
  },
  {
   "metadata": {
    "ExecuteTime": {
     "end_time": "2025-04-27T12:38:27.118957Z",
     "start_time": "2025-04-27T12:38:26.413661Z"
    }
   },
   "cell_type": "code",
   "source": [
    "cleaner = Cleaner()\n",
    "pp = Pipeline([('tokenizing', Tokenizer()),\n",
    "              ('filtering', Filter()),\n",
    "              ('lemmatizing', Lemmatizer())])\n"
   ],
   "id": "68b09eb2912c4574",
   "outputs": [],
   "execution_count": 3
  },
  {
   "metadata": {
    "ExecuteTime": {
     "end_time": "2025-04-27T13:23:44.366858Z",
     "start_time": "2025-04-27T13:23:44.361937Z"
    }
   },
   "cell_type": "code",
   "source": "pipelines = {}",
   "id": "d2dcb6301b0af52b",
   "outputs": [],
   "execution_count": 33
  },
  {
   "metadata": {
    "ExecuteTime": {
     "end_time": "2025-04-27T13:29:53.135737Z",
     "start_time": "2025-04-27T13:29:53.125785Z"
    }
   },
   "cell_type": "code",
   "source": [
    "pipelines['svc'] = Pipeline([('vectorizing', ColumnTransformer([('title', TfidfVectorizer(), 0),\n",
    "                                                   ('text', TfidfVectorizer(), 1)])),\n",
    "                ('pca', PCA()),\n",
    "                ('svc', SVC())])"
   ],
   "id": "d60a1a32d45d207d",
   "outputs": [],
   "execution_count": 46
  },
  {
   "metadata": {
    "ExecuteTime": {
     "end_time": "2025-04-27T16:24:09.958820Z",
     "start_time": "2025-04-27T16:24:09.952757Z"
    }
   },
   "cell_type": "code",
   "source": [
    "pipelines['svc_nmf'] = Pipeline([('vectorizing', ColumnTransformer([('title', TfidfVectorizer(), 0),\n",
    "                                                    ('text', TfidfVectorizer(), 1)])),\n",
    "                 ('nmf', PCA()),\n",
    "                 ('svc', SVC())])"
   ],
   "id": "527e8533bcf0cdb3",
   "outputs": [],
   "execution_count": 374
  },
  {
   "metadata": {
    "ExecuteTime": {
     "end_time": "2025-04-27T15:00:38.985107Z",
     "start_time": "2025-04-27T15:00:38.977087Z"
    }
   },
   "cell_type": "code",
   "source": [
    "pipelines['kmeans'] = Pipeline([('vectorizing', ColumnTransformer([('title', TfidfVectorizer(), 0),\n",
    "                                                      ('text', TfidfVectorizer(), 1)])),\n",
    "                   ('pca', PCA()),\n",
    "                   ('kmeans', KMeans(n_clusters=2, random_state=27)),\n",
    "                   ('predicting', Predictor())])"
   ],
   "id": "37b8db5f36798db4",
   "outputs": [],
   "execution_count": 202
  },
  {
   "metadata": {
    "ExecuteTime": {
     "end_time": "2025-04-27T15:07:56.712807Z",
     "start_time": "2025-04-27T15:07:56.708545Z"
    }
   },
   "cell_type": "code",
   "source": [
    "pipelines['kmeans_nmf'] = Pipeline([('vectorizing', ColumnTransformer([('title', TfidfVectorizer(), 0),\n",
    "                                                                   ('text', TfidfVectorizer(), 1)])),\n",
    "                                ('nmf', NMF()),\n",
    "                                ('kmeans', KMeans(n_clusters=2, random_state=27)),\n",
    "                                ('predicting', Predictor())])"
   ],
   "id": "8759f8169697f24a",
   "outputs": [],
   "execution_count": 221
  },
  {
   "metadata": {
    "ExecuteTime": {
     "end_time": "2025-04-27T12:38:33.818652Z",
     "start_time": "2025-04-27T12:38:31.213345Z"
    }
   },
   "cell_type": "code",
   "source": [
    "data = Data()\n",
    "data.load()\n",
    "cleaner.fit(data.X)\n",
    "data.X = cleaner.transform(data.X)\n",
    "data.y = cleaner.transform(data.y)"
   ],
   "id": "82989a98070d110",
   "outputs": [
    {
     "name": "stdout",
     "output_type": "stream",
     "text": [
      "Cleaning...\n",
      "Cleaning...\n"
     ]
    }
   ],
   "execution_count": 9
  },
  {
   "metadata": {
    "ExecuteTime": {
     "end_time": "2025-04-27T13:55:16.999188Z",
     "start_time": "2025-04-27T13:55:16.988837Z"
    }
   },
   "cell_type": "code",
   "source": "data.X",
   "id": "e72d31724c3c70eb",
   "outputs": [
    {
     "data": {
      "text/plain": [
       "array([['As U.S. budget fight looms, Republicans flip their fiscal script',\n",
       "        'WASHINGTON (Reuters) - The head of a conservative Republican faction in the U.S. Congress, who voted this month for a huge expansion of the national debt to pay for tax cuts, called himself a “fiscal conservative” on Sunday and urged budget restraint in 2018. In keeping with a sharp pivot under way among Republicans, U.S. Representative Mark Meadows, speaking on CBS’ “Face the Nation,” drew a hard line on federal spending, which lawmakers are bracing to do battle over in January. When they return from the holidays on Wednesday, lawmakers will begin trying to pass a federal budget in a fight likely to be linked to other issues, such as immigration policy, even as the November congressional election campaigns approach in which Republicans will seek to keep control of Congress. President Donald Trump and his Republicans want a big budget increase in military spending, while Democrats also want proportional increases for non-defense “discretionary” spending on programs that support education, scientific research, infrastructure, public health and environmental protection. “The (Trump) administration has already been willing to say: ‘We’re going to increase non-defense discretionary spending ... by about 7 percent,’” Meadows, chairman of the small but influential House Freedom Caucus, said on the program. “Now, Democrats are saying that’s not enough, we need to give the government a pay raise of 10 to 11 percent. For a fiscal conservative, I don’t see where the rationale is. ... Eventually you run out of other people’s money,” he said. Meadows was among Republicans who voted in late December for their party’s debt-financed tax overhaul, which is expected to balloon the federal budget deficit and add about $1.5 trillion over 10 years to the $20 trillion national debt. “It’s interesting to hear Mark talk about fiscal responsibility,” Democratic U.S. Representative Joseph Crowley said on CBS. Crowley said the Republican tax bill would require the  United States to borrow $1.5 trillion, to be paid off by future generations, to finance tax cuts for corporations and the rich. “This is one of the least ... fiscally responsible bills we’ve ever seen passed in the history of the House of Representatives. I think we’re going to be paying for this for many, many years to come,” Crowley said. Republicans insist the tax package, the biggest U.S. tax overhaul in more than 30 years,  will boost the economy and job growth. House Speaker Paul Ryan, who also supported the tax bill, recently went further than Meadows, making clear in a radio interview that welfare or “entitlement reform,” as the party often calls it, would be a top Republican priority in 2018. In Republican parlance, “entitlement” programs mean food stamps, housing assistance, Medicare and Medicaid health insurance for the elderly, poor and disabled, as well as other programs created by Washington to assist the needy. Democrats seized on Ryan’s early December remarks, saying they showed Republicans would try to pay for their tax overhaul by seeking spending cuts for social programs. But the goals of House Republicans may have to take a back seat to the Senate, where the votes of some Democrats will be needed to approve a budget and prevent a government shutdown. Democrats will use their leverage in the Senate, which Republicans narrowly control, to defend both discretionary non-defense programs and social spending, while tackling the issue of the “Dreamers,” people brought illegally to the country as children. Trump in September put a March 2018 expiration date on the Deferred Action for Childhood Arrivals, or DACA, program, which protects the young immigrants from deportation and provides them with work permits. The president has said in recent Twitter messages he wants funding for his proposed Mexican border wall and other immigration law changes in exchange for agreeing to help the Dreamers. Representative Debbie Dingell told CBS she did not favor linking that issue to other policy objectives, such as wall funding. “We need to do DACA clean,” she said.  On Wednesday, Trump aides will meet with congressional leaders to discuss those issues. That will be followed by a weekend of strategy sessions for Trump and Republican leaders on Jan. 6 and 7, the White House said. Trump was also scheduled to meet on Sunday with Florida Republican Governor Rick Scott, who wants more emergency aid. The House has passed an $81 billion aid package after hurricanes in Florida, Texas and Puerto Rico, and wildfires in California. The package far exceeded the $44 billion requested by the Trump administration. The Senate has not yet voted on the aid. ',\n",
       "        'politicsNews', 'December 31, 2017 '],\n",
       "       ['U.S. military to accept transgender recruits on Monday: Pentagon',\n",
       "        'WASHINGTON (Reuters) - Transgender people will be allowed for the first time to enlist in the U.S. military starting on Monday as ordered by federal courts, the Pentagon said on Friday, after President Donald Trump’s administration decided not to appeal rulings that blocked his transgender ban. Two federal appeals courts, one in Washington and one in Virginia, last week rejected the administration’s request to put on hold orders by lower court judges requiring the military to begin accepting transgender recruits on Jan. 1. A Justice Department official said the administration will not challenge those rulings. “The Department of Defense has announced that it will be releasing an independent study of these issues in the coming weeks. So rather than litigate this interim appeal before that occurs, the administration has decided to wait for DOD’s study and will continue to defend the president’s lawful authority in District Court in the meantime,” the official said, speaking on condition of anonymity. In September, the Pentagon said it had created a panel of senior officials to study how to implement a directive by Trump to prohibit transgender individuals from serving. The Defense Department has until Feb. 21 to submit a plan to Trump. Lawyers representing currently-serving transgender service members and aspiring recruits said they had expected the administration to appeal the rulings to the conservative-majority Supreme Court, but were hoping that would not happen. Pentagon spokeswoman Heather Babb said in a statement: “As mandated by court order, the Department of Defense is prepared to begin accessing transgender applicants for military service Jan. 1. All applicants must meet all accession standards.” Jennifer Levi, a lawyer with gay, lesbian and transgender advocacy group GLAD, called the decision not to appeal “great news.” “I’m hoping it means the government has come to see that there is no way to justify a ban and that it’s not good for the military or our country,” Levi said. Both GLAD and the American Civil Liberties Union represent plaintiffs in the lawsuits filed against the administration. In a move that appealed to his hard-line conservative supporters, Trump announced in July that he would prohibit transgender people from serving in the military, reversing Democratic President Barack Obama’s policy of accepting them. Trump said on Twitter at the time that the military “cannot be burdened with the tremendous medical costs and disruption that transgender in the military would entail.” Four federal judges - in Baltimore, Washington, D.C., Seattle and Riverside, California - have issued rulings blocking Trump’s ban while legal challenges to the Republican president’s policy proceed. The judges said the ban would likely violate the right under the U.S. Constitution to equal protection under the law. The Pentagon on Dec. 8 issued guidelines to recruitment personnel in order to enlist transgender applicants by Jan. 1. The memo outlined medical requirements and specified how the applicants’ sex would be identified and even which undergarments they would wear. The Trump administration previously said in legal papers that the armed forces were not prepared to train thousands of personnel on the medical standards needed to process transgender applicants and might have to accept “some individuals who are not medically fit for service.” The Obama administration had set a deadline of July 1, 2017, to begin accepting transgender recruits. But Trump’s defense secretary, James Mattis, postponed that date to Jan. 1, 2018, which the president’s ban then put off indefinitely. Trump has taken other steps aimed at rolling back transgender rights. In October, his administration said a federal law banning gender-based workplace discrimination does not protect transgender employees, reversing another Obama-era position. In February, Trump rescinded guidance issued by the Obama administration saying that public schools should allow transgender students to use the restroom that corresponds to their gender identity. ',\n",
       "        'politicsNews', 'December 29, 2017 '],\n",
       "       [\"Senior U.S. Republican senator: 'Let Mr. Mueller do his job'\",\n",
       "        'WASHINGTON (Reuters) - The special counsel investigation of links between Russia and President Trump’s 2016 election campaign should continue without interference in 2018, despite calls from some Trump administration allies and Republican lawmakers to shut it down, a prominent Republican senator said on Sunday. Lindsey Graham, who serves on the Senate armed forces and judiciary committees, said Department of Justice Special Counsel Robert Mueller needs to carry on with his Russia investigation without political interference. “This investigation will go forward. It will be an investigation conducted without political influence,” Graham said on CBS’s Face the Nation news program. “And we all need to let Mr. Mueller do his job. I think he’s the right guy at the right time.”  The question of how Russia may have interfered in the election, and how Trump’s campaign may have had links with or co-ordinated any such effort, has loomed over the White House since Trump took office in January. It shows no sign of receding as Trump prepares for his second year in power, despite intensified rhetoric from some Trump allies in recent weeks accusing Mueller’s team of bias against the Republican president. Trump himself seemed to undercut his supporters in an interview last week with the New York Times in which he said he expected Mueller was “going to be fair.”    Russia’s role in the election and the question of possible links to the Trump campaign are the focus of multiple inquiries in Washington. Three committees of the Senate and the House of Representatives are investigating, as well as Mueller, whose team in May took over an earlier probe launched by the U.S. Federal Bureau of Investigation (FBI). Several members of the Trump campaign and administration have been convicted or indicted in the investigation.  Trump and his allies deny any collusion with Russia during the campaign, and the Kremlin has denied meddling in the election. Graham said he still wants an examination of the FBI’s use of a dossier on links between Trump and Russia that was compiled by a former British spy, Christopher Steele, which prompted Trump allies and some Republicans to question Mueller’s inquiry.   On Saturday, the New York Times reported that it was not that dossier that triggered an early FBI probe, but a tip from former Trump campaign foreign policy adviser George Papadopoulos to an Australian diplomat that Russia had damaging information about former Trump rival Hillary Clinton.  “I want somebody to look at the way the Department of Justice used this dossier. It bothers me greatly the way they used it, and I want somebody to look at it,” Graham said. But he said the Russia investigation must continue. “As a matter of fact, it would hurt us if we ignored it,” he said. ',\n",
       "        'politicsNews', 'December 31, 2017 '],\n",
       "       ...,\n",
       "       ['BOILER ROOM – No Surrender, No Retreat, Heads Will Roll  – EP #38',\n",
       "        'Tune in to the Alternate Current Radio Network (ACR) for another LIVE broadcast of  The Boiler Room  starting at 6 PM PST | 9 PM EST every Wednesday. Join us for uncensored, uninterruptible talk radio, custom-made for barfly philosophers, misguided moralists, masochists, street corner evangelists, media-maniacs, savants, political animals and otherwise lovable rascals.Join ACR hosts Hesher, & Spore along with Andy Nowicki from Alt Right Blogspot, ACR/21Wire contributor Randy J and Daniel Spaulding from souloftheeast.org. In this first broadcast of 2016 we re going off the rails and off the cuffs, listeners will be hearing us go around the BOILER ROOM on a myriad of topics including the Protest happening in Oregon over the Hammond Ranch incident and the federal abuse of small ranchers and farmers, the usual off-ramp into pop-culture topics, Obama s newest anti-gun executive order and more. If you want to participate, bring something interesting to throw into the boiler Join us in the ALTERNATE CURRENT RADIO chat room.BOILER ROOM IS NOT A POLICTALLY CORRECT ZONE!   Live ACR player below   Show goes live at 6 PM PSTThis week s topics: ',\n",
       "        'US_News', 'January 6, 2016'],\n",
       "       ['Federal Showdown Looms in Oregon After BLM Abuse of Local Ranching Family – Bundys Lead Protest',\n",
       "        '21st Century Wire says A new front has just opened up in the long battle between America s small farmers and the US federal government. DOUBLE JEOPARDY: Ranching family members Dwight Hammond (left) and his son Steven Hammond were sentenced twice for the same crime by federal officials.Late last week, approximately 150 people marched to the Harney County, Oregon, Sheriffs office in a peaceful protest of the unlawful jailing of two Oregon ranchers, father, Dwight Hammond, 73, and son, Steven Hammond, 46, over accusations of arson for carrying out prescribed burnings on their family-owned cattle ranch in 2001 and 2006. The family and their supporters accuse the federal Bureau of Land Management (BLM) of carrying out a decades-long pattern of abuse and persecution against the Hammonds in a coordinated effort to drive them out of the family ranching business.The scene in Burns, Oregon, Saturday morning as protestors gather in support of 2 ranchers going to prison. pic.twitter.com/ec6tmdeTik  Les Zaitz (@LesZaitz) January 2, 2016After a protest convened, a large group of supporters, including members of the Bundy family from Bunkerville, Nevada, left the public gathering and headed 50 miles outside of Burns, Oregon, (Burns is  located approximately 4 hours southeast of Portland), to the Malheur Wildlife Refuge Center, run by the BLM. The protesters have stated that their plan is to occupy the federal facility.Malheur National Wildlife building.Because of the venue s remote location, only a few journalists were able to report on the story over the weekend, but that was set to change on today, with dozens of new national media outlets arriving and setting up camp this morning. Law enforcement has already issued warnings for people to stay away, and the Sheriff s office has also informed media to expect  multiple agencies  (state and federal law enforcement) to be there on Monday morning.Below is a video statement (recorded on Jan 1st) from the protest s spokesman, Ammon Bundy, making an impassioned appeal for public support in a campaign for justice and redress of grievances for the Hammond family and also for additional support to help occupy the Malheur National Wildlife Refuge facility. Since the call went out through social media, a number of supporters and militia members from around the country have started to arrive on-site, with many more expected to arrive in the coming days and weeks.Watch: A video update from protesters and militia members as they arrive on location at the Malheur National Wildlife Refuge site:  The United States Justice Department has NO jurisdiction or authority within the State of Oregon, County of Harney over this type of ranch management. These lands are not under U.S. treaties or commerce, they are not article 4 territories, and Congress does not have unlimited power. These lands have been admitted into statehood and are part of the great State of Oregon and the citizens of Harney County enjoy the fullness of the protections of the U.S. Constitution. The U.S. Constitution limits United States government.  (see the full letter here) As expected, the media coverage on this story has been extremely partisan, with many left-leaning outlets like CNN already characterizing this story as a  Militia Takeover of Federal Building  by a  anti-government gang with guns , without giving any real background commentary to the protracted legal controversy that had preceded events this week. One local affiliate KOIN6, even used the term  militants  in the headline to describe protesters on site. The following report from Conservative Treehouse, tells an incredible story of corruption and abuse of power by the federal government, its agents and courts, in what can only be described as a federal vendetta against the local family. Here s the Hammond Ranch case timeline The short summary is:  in an effort to draw attention to a ridiculous arrest of a father and son pair of Oregon Ranchers ( Dwight Lincoln Hammond, Jr., 73, and his son, Steven Dwight Hammond, 46,) who are scheduled to begin five year prison sentences (turning themselves in tomorrow January 4th 2016), three brothers from the Cliven Bundy family and approximately 100/150 (and growing) heavily armed militia (former U.S. service members) have taken control of Malheur Wildlife Refuge Headquarters in the wildlife reserve.  They are prepared to stay there indefinitely.Here s the long version: including history, details, links video(s) and explanations: PHOTO: The Hammond FamilyHISTORY: (aa) The Harney Basin (where the Hammond ranch is established) was settled in the 1870 s. The valley was settled by multiple ranchers and was known to have run over 300,000 head of cattle. These ranchers developed a state of the art irrigated system to water the meadows, and it soon became a favorite stopping place for migrating birds on their annual trek north.(ab) In 1908 President Theodore Roosevelt, in a political scheme, create an  Indian reservation  around the Malheur, Mud & Harney Lakes and declared it  as a preserve and breeding ground for native birds . Later this  Indian reservation  (without Indians) became the Malheur National Wildlife Refuge.(a) In 1964 the Hammonds purchased their ranch in the Harney Basin. The purchase included approximately 6000 acres of private property, 4 grazing rights on public land, a small ranch house and 3 water rights. The ranch is around 53 miles South of Burns, Oregon.(a1) By the 1970 s nearly all the ranches adjacent to the Blitzen Valley were purchased by the US Fish and Wildlife Service (FWS) and added to the Malheur National Wildlife Refuge. The refuge covers over 187,000 acres and stretches over 45 miles long and 37 miles wide. The expansion of the refuge grew and surrounds the Hammond s ranch. Being approached many times by the FWS, the Hammonds refused to sell. Other ranchers also choose not to sell.(a2) During the 1970 s the Fish and Wildlife Service (FWS), in conjunction with the Bureau of Land Management (BLM), took a different approach to get the ranchers to sell. Ranchers were told that,  grazing was detrimental to wildlife and must be reduced . 32 out of 53 permits were revoked and many ranchers were forced to leave. Grazing fees were raised significantly for those who were allowed to remain. Refuge personnel took over the irrigation system claiming it as their own.(a3) By 1980 a conflict was well on its way over water allocations on the adjacent privately owned Silvies Plain. The FWS wanted to acquire the ranch lands on the Silvies Plain to add to their already vast holdings. Refuge personnel intentionally diverted the water to bypass the vast meadowlands, directing the water into the rising Malheur Lakes. Within a few short years the surface area of the lakes doubled. Thirty-one ranches on the Silvies plains were flooded. Homes, corrals, barns and graze-land were washed away and destroyed. The ranchers that once fought to keep the FWS from taking their land, now broke and destroyed, begged the FWS to acquire their useless ranches. In 1989 the waters began to recede and the once thriving privately owned Silvies pains became a proud part of the Malheur National Wildlife Refuge claimed by the FWS.(a4) By the 1990 s the Hammonds were one of the very few ranchers that still owned private property adjacent to the refuge. Susie Hammond in an effort to make sense of what was going on began compiling fact about the refuge. In a hidden public record she found a study that was done by the FWS in 1975. The study showed that the  no use  policies of the FWS on the refuge were causing the wildlife to leave the refuge and move to private property. The study showed that the private property adjacent to the Malheur Wildlife Refuge produced 4 times more ducks and geese than the refuge did. It also showed that the migrating birds were 13 times more likely to land on private property than on the refuge. When Susie brought this to the attention of the FWS and refuge personnel, she and her family became the subjects of a long train of abuses and corruptions.(b) In the early 1990 s the Hammonds filed on a livestock water source and obtained a deed for the water right from the State of Oregon. When the Bureau of Land Management (BLM) and US Fish and Wildlife Service (FWS) found out that the Hammonds obtained new water rights near the Malhuer Wildlife Refuge, they were agitated and became belligerent and vindictive towards the Hammonds. The US Fish and Wildlife Service challenged the Hammonds right to the water in an Oregon State Circuit Court. The court found that the Hammonds legally obtained rights to the water in accordance to State law and therefore the use of the water belongs to the Hammonds.*(c) In August 1994 the BLM & FWS illegally began building a fence around the Hammonds water source. Owning the water rights and knowing that their cattle relied on that water source daily, the Hammonds tried to stop the building of the fence. The BLM & FWS called the Harney County Sheriff department and had Dwight Hammond (Father) arrested and charged with  disturbing and interfering with  federal officials or federal contractors (two counts, each a felony). He spent one night in the Deschutes County Jail in Bend, and a second night behind bars in Portland before he was hauled before a federal magistrate and released without bail. A hearing on the charges was postponed and the federal judge never set another date.(d) The FWS also began restricting access to upper pieces of the Hammond s private property. In order to get to the upper part of the Hammond s ranch they had to go on a road that went through the Malhuer Wildlife Refuge. The FWS began barricading the road and threatening the Hammonds if they drove through it. The Hammonds removed the barricades and gates and continued to use their right of access. The road was proven later to be owned by the County of Harney. This further enraged the BLM & FWS.(e) Shortly after the road & water disputes, the BLM & FWS arbitrarily revoked the Hammond s upper grazing permit without any given cause, court proceeding or court ruling. As a traditional  fence out state , Oregon requires no obligation on the part of an owner to keep his or her livestock within a fence or to maintain control over the movement of the livestock. The Hammonds intended to still use their private property for grazing. However, they were informed that a federal judge ruled, in a federal court, that the federal government did not have to observe the Oregon fence out law.  Those laws are for the people, not for them .(f) The Hammonds were forced to either build and maintain miles of fences or be restricted from the use of their private property. Cutting their ranch almost in half, they could not afford to fence the land, so the cattle were removed.(g) The Hammonds experienced many years of financial hardship due to the ranch being diminished. The Hammonds had to sell their ranch and home in order to purchase another property that had enough grass to feed their cattle. This property included two grazing rights on public land. Those were also arbitrarily revoked later.(h) The owner of the Hammond s original ranch passed away from a heart attack and the Hammonds made a trade for the ranch back.(i) In the early fall of 2001, Steven Hammond (son) called the fire department, informing them that he was going to be performing a routine prescribed burn on their ranch. Later that day he started a prescribed fire on their private property. The fire spread to public land and burned 127 acres of grass. The Hammonds put the fire out themselves. There was no communication about the burn from the federal government to the Hammonds at that time. Prescribed fires are a common method that Native Americans and ranchers have used in the area to increase the health & productivity of the land for many centuries.(j) In 2006 a massive lightning storm started multiple fires that joined together inflaming the countryside. To prevent the fire from destroying their winter range and possibly their home, Steven Hammond (son) started a backfire on their private property. The backfire was successful in putting out the lightning fires that had covered thousands of acres within a short period of time. The backfire saved much of the range and vegetation needed to feed the cattle through the winter. Steven s mother, Susan Hammond said:  The backfire worked perfectly, it put out the fire, saved the range and possibly our home .(j1) The next day federal agents went to the Harney County Sheriff s office and filled a police report making accusing Dwight and Steven Hammond of starting the backfire. A few days after the backfire a Range-Con from the Burns District BLM office asked Steven if he would meet him in town (Frenchglen) for coffee. Steven accepted. When leaving he was arrested by Harney County Sheriff Dave Glerup and BLM Ranger Orr. the Sheriff  then ordered him to go to the ranch and bring back his father. Both Dwight and Steven were booked on multiple Oregon State charges. The Harney County District Attorney reviewed the accusation, evidence and charges, and determined that the accusations against Dwight & Steven Hammond did not warrant prosecution and dropped all the charges.(k) In 2011, 5 years after the police report was taken, the U.S. Attorney s Office accused Dwight and Steven Hammond of completely different charges, they accused them of being  Terrorist  under the Federal Antiterrorism Effective Death Penalty Act of 1996. This act carries a minimum sentence of five years in prison and a maximum sentence of death. Dwight & Steven s mug shots were all over the news the next week posing them as  Arsonists . Susan Hammond (Wife & Mother) said:  I would walk down the street or go in a store, people I had known for years would take extreme measures to avoid me .(l) Shortly after the sentencing, Capital Press ran a story about the Hammonds. A person who identified as Greg Allum posted three comments on the article, calling the ranchers  clowns  who endangered firefighters and other people in the area while burning valuable rangeland. Greg Allum, a retired BLM heavy equipment operator, soon called Capital Press to complain that he had not made those comments and request that they be taken down from the website. Capital Press removed the comments. A search of the Internet Protocol address associated with the comments revealed it is owned by the BLM s office in Denver, Colorado. Allum said, he is friends with the Hammonds and was alerted to the comments by neighbors who knew he wouldn t have written them.  I feel bad for them. They lost a lot and they re going to lose more,  Allum said of the ranchers.  They re not terrorists. There s this hatred in the BLM for them, and I don t get it,  The retired BLM employee said. Jody Weil, deputy state director for communications at BLM s Oregon office, indicated to reporters that if one of their agents falsified the comments, they would keep it private and not inform the public.(m) In September 2006, Dwight & Susan Hammond s home was raided. The agents informed the Hammonds that they were looking for evidence that would connect them to the fires. The Hammonds later found out that a boot print and a tire tracks were found near one of the many fires. No matching boots or tires were found in the Hammonds home or on their property. Susan Hammond (Wife) later said;   I have never felt so violated in my life. We are ranchers not criminals . Steven Hammond openly maintains his testimony that he started the backfire to save the winter grass from being destroyed and that the backfire ended up working so well it put out the fire entirely altogether.(n) During the trial proceedings, Federal Court Judge Michael Hogan did not allow time for certain testimonies and evidence into the trail that would have exonerated the Hammonds. Federal prosecuting attorney, Frank Papagni, was given full access for 6 days. He had ample time to use any evidence or testimony that strengthened the demonization of the Hammonds. The Hammonds attorney was only allowed 1 day. Much of the facts about the fires, land and why the Hammonds acted the way they did was not allowed into the proceedings and was not heard by the jury. For example, Judge Hogan did not allow time for the jury to hear or review certified scientific findings that the fires improved the health and productivity of the land. Or, that the Hammonds had been subject to vindictive behavior by multiple federal agencies for years.(o) Federal attorney, Frank Papagni, hunted down a witness that was not mentally capable of being a credible witness. Dusty Hammond (grandson and nephew) testified that Steven told him to start a fire. He was 13 at the time and 24 when he testified (11 years later). At 24 Dusty had been suffering with mental problems for many years. He had estranged his family including his mother. Judge Hogan noted that Dusty s memories as a 13-year-old boy were not clear or credible. He allowed the prosecution to continually use Dusty s testimony anyway. When speaking to the Hammonds about this testimony, they understood that Dusty was manipulated and expressed nothing but love for their troubled grandson.(p) Judge Michael Hogan & Frank Papagni tampered with the jury many times throughout the proceedings, including during the selection process. Hogan & Papagni only allowed people on the jury who did not understand the customs and culture of the ranchers or how the land is used and cared for in the Diamond Valley. All of the jurors had to drive back and forth to Pendleton everyday. Some drove more than two hours each way. By day 8 they were exhausted and expressed desires to be home.On the final day, Judge Hogan kept pushing them to make a verdict. Several times during deliberation, Judge Hogan pushed them to make a decision. Judge Hogan also would not allow the jury to hear what punishment could be imposed upon an individual that has convicted as a terrorist under the 1996 act. The jury, not understanding the customs and cultures of the area, influenced by the prosecutors for 6 straight days, very exhausted, pushed for a verdict by the judge, unaware of the ramification of convicting someone as a terrorist, made a verdict and went home.(q) June 22, 2012, Dwight and Steven were found guilty of starting both the 2001 and the 2006 fires by the jury. However, the federal courts convicted them both as  Terrorist  under the 1996 Antiterrorism Act. Judge Hogan sentenced Dwight (Father) to 3 months in prison and Steven (son) to 12 months in federal prison. They were also stipulated to pay $400,000 to the BLM. Hogan overruling the minimum terrorist sentence, commenting that if the full five years were required it would be a violation of the 8th amendment (cruel and unusual punishment). The day of the sentencing Judge Hogan retired as a federal judge. In his honor the staff served chocolate cake in the courtroom.(r) On January 4, 2013, Dwight and Steven reported to prison. They fulfilled their sentences, (Dwight 3 months, Steven 12 months). Dwight was released in March 2013 and Steven, January 2014.(s) Sometime in June 2014, Rhonda Karges, Field Manager for the BLM, and her husband Chad Karges, Refuge Manager for the Malheur Wildlife Refuge (which surrounds the Hammond ranch), along with attorney Frank Papagni exemplifying further vindictive behavior filed an appeal with the 9th District Federal Court seeking Dwight s and Steven s return to federal prison for the entire 5 years.*(t) In October 2015, the 9th District Court  resentenced  Dwight and Steven, requiring them to return to prison for several more years. Steven (46) has a wife and 3 children. Dwight (74) will leave Susan (74) to be alone after 55 years of marriage. If he survives, he will be 79 when he is released.(u) During the court preceding the Hammonds were forced to grant the BLM first right of refusal. If the Hammonds ever sold their ranch they would have to sell it to the BLM.(v) Dwight and Steven are ordered to report to federal prison again on January 4th, 2016 to begin their re-sentencing. Both their wives will have to manage the ranch for several years without them.To date they have paid $200,000 to the BLM, and the remainder $200,000 must be paid before the end of this year (2015). If the Hammonds cannot pay the fines to the BLM, they will be forced to sell the ranch to the BLM or face further prosecution. (more citations here) See updates at Conservative TreehouseHere is another video update from Ammon Bundy: SUPPORT 21WIRE  SUBSCRIBE & BECOME A MEMBER @ 21WIRE.TV',\n",
       "        'US_News', 'January 4, 2016'],\n",
       "       ['A Troubled King: Chicago’s Rahm Emanuel Desperate to Save His 2020 Presidential Run',\n",
       "        '21st Century Wire says It s not that far away. Guess who wants to run for president in 2020?Just before the New Year bell rung, the embattled Chicago Mayor Rahm Israel Emanuel (D) was forced to cut short his family vacation in Cuba, and headed back to the windy city after yet another embarrassing police shooting last week which claimed two lives as police responding to a  domestic disturbance  call killed  19-year-old Quintonio LeGrier, an engineering student at Northern Illinois University, and bystander 55-year-old Betti Jones, a grandmother.Last week, 100 people, family and activists, held a vigil for the victims. The Mayor has attempted a sort of mea culpa this time, but the public is not buying it, mainly because this was the second major high-profile police shooting incident to rock city hall in the last month. TROUBLE IN HIS KEEP: The LaQuan McDonald shooting has rattled the  dynasty potential  of Chicago s Rahm Emanuel.Currently serving his second term in office, the 56-year-old mayor is going from one crisis to the next, as tensions continue to simmer after the initial controversy, the killing of 17-year-old Laquan McDonald who was shot 16 times by city police on camera   which prompted angry mobs demanding  The King  step down.There could be a political price to pay for all of this. Not only are #BlackLivesMatter on the rampage over these latest shooting events, but also LeGrier s mother, Janet Cooksey, appeared on national TV last Sunday at a news conference, wearing a T-shirt emblazoned with the face of Mayor Emanuel with the words  Rahm Failed Us. Throughout the debacle, Emmanuel has not given in to the public pressure, even though his approval rating has plummeted 20% since hostilities began. On top of this, Chicago has earned the reputation of  murder capital of America , despite the mayor s staunch liberal policy of  gun-free zones  across the city which some critics credit towards creating a criminal s paradise. The Mayor is already on shaky ground. Only last winter, Emanuel narrowly survived a close run-off election to keep his job in office.All of this has the potential to cast a shadow over Emanuel s political future, which is likely to include a Democratic Party presidential run in 2020. It s reported that Emanuel already has a substantial campaign war chest ready to go, billions of dollars in fact, thanks to some very wealthy backers. If Emanuel does go ahead with the 2020 plan, the driving force behind his campaign will be his Hollywood mogul brother, Ari Emanuel, who will spare no expense in terms of PR, marketing and advertising for his brother s political drive to the White House. Part of the newly found Emanuel family fortune derives from their early investment in the virtual taxi service sensation, Uber, with the Emanuel investment estimated to be valued over $1 billion alone. This is not without controversy however, as it was Mayor Rahm Emanuel s deregulation of Chicago s taxi industry that helped Uber shares to skyrocket in value. Critics are saying that there was a conflict of interest there, but in today s seedy political environment of insider trading and open criminality, it might be hard for any politician to pull rank over that issue. Add to this the potential hundreds of millions more in donations that Emanuel will receive from Jewish property tycoon Sheldon Adelson, and also from Jewish billionaire and Emanuel s fellow anti-gun advocate, Michael Bloomberg   and all in the interests of serving Israel, and you can see how Emanuel could be viewed as a 2020 Democratic front-runner already.The Mayor emerged on to the DC sewer scene as part of the Clinton-Obama Chicago political machine. He s been described by AFP s Victor Thorn as,  More sinister than Karl Rove and potentially deadlier than Dick  Darth Vader  Cheney . Back when Emanuel was Barack Obama s chief of staff in 2008, many commentators remarked on his psychopathic behavior, including his frightening Machiavellian exhibition in a White House meeting where he said the administration s political enemies need to,  Die, die, die! , as he stabbed the table in anger, reportedly using either a pen, or letter opener (regardless, that s a bit scary). Enough to scare the American people considering this is a man who most likely has his eyes on the White House. DUAL LOYALTIES: Rahm Emanuel might have a hard to time putting US interests ahead of Netanyahu s.The other strange bone of contention about Emanuel as a candidate is that he is reportedly a dual citizen (although its believed he gave up his Israeli citizenship at 19 years old) who shares a national identity between the United States and Israel, and actual served in the IDF briefly after college. According to Mondoweiss,  Emanuel left when the Gulf War broke out, in order to volunteer in the IDF. He served in one of Israel s northern bases until the war ended, and upon his return to the US became Clinton s advisor in the White House for almost eight years. Emanuel can often be seen in the presence of Israel leader and Zionist extremist, Bibi Netanyahu, which raises the real prospect of Tel Aviv finally having its very own US president embedded in the White House.The fundamental question here is: when it comes down to the crunch, which country s interest would Emanuel be more loyal towards, the US, or Israel. Contrary to popular Republican belief sets, you cannot wear allegiance to both, because no matter how hard the Israel Lobby tries to portray it   both countries have very radically different national and social interests.If this issue sinks any further down the cesspit of public outrage, expect Emanuel s Hollywood PR machine to go into overdrive.READ MORE ISRAEL NEWS AT: 21st Century Wire Israel Files',\n",
       "        'US_News', 'January 2, 2016']], shape=(38040, 4), dtype=object)"
      ]
     },
     "execution_count": 100,
     "metadata": {},
     "output_type": "execute_result"
    }
   ],
   "execution_count": 100
  },
  {
   "metadata": {
    "ExecuteTime": {
     "end_time": "2025-04-27T12:38:37.979807Z",
     "start_time": "2025-04-27T12:38:37.970349Z"
    }
   },
   "cell_type": "code",
   "source": [
    "X_train, X_test, y_train, y_test = tts(data.X,\n",
    "                                       data.y,\n",
    "                                       train_size = .25,\n",
    "                                       test_size = .25,\n",
    "                                       random_state = 42)"
   ],
   "id": "e4fa075e8f4e2779",
   "outputs": [],
   "execution_count": 10
  },
  {
   "metadata": {
    "ExecuteTime": {
     "end_time": "2025-04-27T16:31:44.049342Z",
     "start_time": "2025-04-27T16:31:44.010801Z"
    }
   },
   "cell_type": "code",
   "source": [
    "X_train50, X_test50, y_train50, y_test50 = tts(data.X,\n",
    "                                               data.y,\n",
    "                                               train_size = .5,\n",
    "                                               test_size = .5,\n",
    "                                               random_state = 42)"
   ],
   "id": "eeb288fbf816936d",
   "outputs": [],
   "execution_count": 385
  },
  {
   "metadata": {
    "ExecuteTime": {
     "end_time": "2025-04-27T12:38:39.939707Z",
     "start_time": "2025-04-27T12:38:39.930240Z"
    }
   },
   "cell_type": "code",
   "source": "X_train.shape",
   "id": "92adf2f43c970e35",
   "outputs": [
    {
     "data": {
      "text/plain": [
       "(9510, 4)"
      ]
     },
     "execution_count": 11,
     "metadata": {},
     "output_type": "execute_result"
    }
   ],
   "execution_count": 11
  },
  {
   "metadata": {
    "ExecuteTime": {
     "end_time": "2025-04-27T12:43:53.321371Z",
     "start_time": "2025-04-27T12:38:42.076177Z"
    }
   },
   "cell_type": "code",
   "source": "X_train = pp.fit_transform(X_train)",
   "id": "531695fef81ec406",
   "outputs": [
    {
     "name": "stdout",
     "output_type": "stream",
     "text": [
      "Tokenizing ...\n",
      "Filtering...\n",
      "Lemmatizing...\n"
     ]
    }
   ],
   "execution_count": 12
  },
  {
   "metadata": {
    "ExecuteTime": {
     "end_time": "2025-04-27T13:48:31.052117Z",
     "start_time": "2025-04-27T13:48:31.046246Z"
    }
   },
   "cell_type": "code",
   "source": "param_grids = {key: {} for key in pipelines.keys()}",
   "id": "5a54a0b8c520834d",
   "outputs": [],
   "execution_count": 82
  },
  {
   "metadata": {
    "ExecuteTime": {
     "end_time": "2025-04-27T14:33:45.667840Z",
     "start_time": "2025-04-27T14:33:45.658033Z"
    }
   },
   "cell_type": "code",
   "source": "gcvs = {key: None for key in pipelines.keys()}",
   "id": "9a88df8ebd8f9760",
   "outputs": [],
   "execution_count": 152
  },
  {
   "metadata": {
    "ExecuteTime": {
     "end_time": "2025-04-27T17:05:12.223660Z",
     "start_time": "2025-04-27T17:05:12.217186Z"
    }
   },
   "cell_type": "code",
   "source": [
    "param_grids['svc'] = {}\n",
    "param_grids['svc']['vectorizing__title__max_features'] = [175]\n",
    "param_grids['svc']['vectorizing__text__max_features'] = [150]\n",
    "param_grids['svc']['vectorizing__title__ngram_range'] = [(1,2)]#[(1,3),(1, 2), (1,1)]\n",
    "param_grids['svc']['vectorizing__text__ngram_range'] = [(1,1)]#[(1,1),(1, 2), (1,3)]\n",
    "param_grids['svc']['vectorizing__text__min_df'] = [1]#[1,2,3]#[2,3,4]\n",
    "param_grids['svc']['vectorizing__title__min_df'] = [1]#[1,2,3]#[2,3,4]\n",
    "param_grids['svc']['vectorizing__title__max_df'] =[.99]#[.99, .95]\n",
    "param_grids['svc']['vectorizing__text__max_df'] = [.99]#[.99, .95]\n",
    "param_grids['svc']['svc__kernel'] = ['linear']#['linear', 'rbf']\n",
    "param_grids['svc']['svc__C'] = [6]#[5,6,7]"
   ],
   "id": "c452d89ff8a2e64",
   "outputs": [],
   "execution_count": 475
  },
  {
   "metadata": {
    "ExecuteTime": {
     "end_time": "2025-04-27T17:06:57.768866Z",
     "start_time": "2025-04-27T17:05:12.666374Z"
    }
   },
   "cell_type": "code",
   "source": [
    "\n",
    "gcvs['svc'] = GridSearchCV(pipelines['svc'],\n",
    "                           param_grid=param_grids['svc'],\n",
    "                           cv = 3, n_jobs = -1,\n",
    "                           verbose = 100).fit(X_train50, y_train50)"
   ],
   "id": "d7988f7ae5e5520a",
   "outputs": [
    {
     "name": "stdout",
     "output_type": "stream",
     "text": [
      "Fitting 3 folds for each of 9 candidates, totalling 27 fits\n"
     ]
    }
   ],
   "execution_count": 476
  },
  {
   "metadata": {
    "ExecuteTime": {
     "end_time": "2025-04-27T17:06:57.917581Z",
     "start_time": "2025-04-27T17:06:57.912317Z"
    }
   },
   "cell_type": "code",
   "source": "gcvs['svc'].best_score_",
   "id": "8aec66da0174c8be",
   "outputs": [
    {
     "data": {
      "text/plain": [
       "np.float64(0.9923238696109359)"
      ]
     },
     "execution_count": 477,
     "metadata": {},
     "output_type": "execute_result"
    }
   ],
   "execution_count": 477
  },
  {
   "metadata": {
    "ExecuteTime": {
     "end_time": "2025-04-27T17:07:02.189617Z",
     "start_time": "2025-04-27T17:06:57.995193Z"
    }
   },
   "cell_type": "code",
   "source": "gcvs['svc'].score(X_test50, y_test50)",
   "id": "13cee50659488874",
   "outputs": [
    {
     "data": {
      "text/plain": [
       "0.9919558359621451"
      ]
     },
     "execution_count": 478,
     "metadata": {},
     "output_type": "execute_result"
    }
   ],
   "execution_count": 478
  },
  {
   "metadata": {
    "ExecuteTime": {
     "end_time": "2025-04-27T17:07:02.334630Z",
     "start_time": "2025-04-27T17:07:02.329455Z"
    }
   },
   "cell_type": "code",
   "source": "gcvs['svc'].best_params_",
   "id": "7f04147679a60f2e",
   "outputs": [
    {
     "data": {
      "text/plain": [
       "{'svc__C': 6,\n",
       " 'svc__kernel': 'linear',\n",
       " 'vectorizing__text__max_df': 0.99,\n",
       " 'vectorizing__text__max_features': 150,\n",
       " 'vectorizing__text__min_df': 1,\n",
       " 'vectorizing__text__ngram_range': (1, 1),\n",
       " 'vectorizing__title__max_df': 0.99,\n",
       " 'vectorizing__title__max_features': 175,\n",
       " 'vectorizing__title__min_df': 1,\n",
       " 'vectorizing__title__ngram_range': (1, 2)}"
      ]
     },
     "execution_count": 479,
     "metadata": {},
     "output_type": "execute_result"
    }
   ],
   "execution_count": 479
  },
  {
   "metadata": {
    "ExecuteTime": {
     "end_time": "2025-04-27T17:13:26.788811Z",
     "start_time": "2025-04-27T17:13:26.781600Z"
    }
   },
   "cell_type": "code",
   "source": [
    "\n",
    "param_grids['svc_nmf'] = {}\n",
    "param_grids['svc_nmf']['vectorizing__title__max_features'] = [175]\n",
    "param_grids['svc_nmf']['vectorizing__text__max_features'] = [150]\n",
    "param_grids['svc_nmf']['vectorizing__title__ngram_range'] = [(1,2)]#[(1,3),(1, 2), (1,1)]\n",
    "param_grids['svc_nmf']['vectorizing__text__ngram_range'] = [(1,1)]#[(1,1),(1, 2), (1,3)]\n",
    "param_grids['svc_nmf']['vectorizing__text__min_df'] = [1]#[1,2,3]#[2,3,4]\n",
    "param_grids['svc_nmf']['vectorizing__title__min_df'] = [1]#[1,2,3]#[2,3,4]\n",
    "param_grids['svc_nmf']['vectorizing__title__max_df'] =[.99]#[.99, .95]\n",
    "param_grids['svc_nmf']['vectorizing__text__max_df'] = [.99]#[.99, .95]\n",
    "param_grids['svc_nmf']['nmf__n_components'] = [None,80,160,200]\n",
    "param_grids['svc_nmf']['svc__kernel'] = ['linear']#['linear', 'rbf']\n",
    "param_grids['svc_nmf']['svc__C'] = [6]#[5,6,7]\n",
    "\n"
   ],
   "id": "9342e2168b5b9d6c",
   "outputs": [],
   "execution_count": 486
  },
  {
   "metadata": {
    "ExecuteTime": {
     "end_time": "2025-04-27T17:14:11.980714Z",
     "start_time": "2025-04-27T17:13:27.143745Z"
    }
   },
   "cell_type": "code",
   "source": [
    "\n",
    "\n",
    "gcvs['svc_nmf'] = GridSearchCV(pipelines['svc_nmf'],\n",
    "                           param_grid=param_grids['svc_nmf'],\n",
    "                           cv = 3, n_jobs = -1,\n",
    "                           verbose = 100).fit(X_train50, y_train50)\n"
   ],
   "id": "805211180f24b06f",
   "outputs": [
    {
     "name": "stdout",
     "output_type": "stream",
     "text": [
      "Fitting 5 folds for each of 4 candidates, totalling 20 fits\n"
     ]
    }
   ],
   "execution_count": 487
  },
  {
   "metadata": {
    "ExecuteTime": {
     "end_time": "2025-04-27T17:14:12.000163Z",
     "start_time": "2025-04-27T17:14:11.995478Z"
    }
   },
   "cell_type": "code",
   "source": "gcvs['svc_nmf'].best_score_",
   "id": "7a47a120df094221",
   "outputs": [
    {
     "data": {
      "text/plain": [
       "np.float64(0.9930073606729758)"
      ]
     },
     "execution_count": 488,
     "metadata": {},
     "output_type": "execute_result"
    }
   ],
   "execution_count": 488
  },
  {
   "metadata": {
    "ExecuteTime": {
     "end_time": "2025-04-27T17:14:16.391630Z",
     "start_time": "2025-04-27T17:14:12.151587Z"
    }
   },
   "cell_type": "code",
   "source": "gcvs['svc_nmf'].score(X_test50, y_test50)",
   "id": "401b7f8073b8ce3c",
   "outputs": [
    {
     "data": {
      "text/plain": [
       "0.9919558359621451"
      ]
     },
     "execution_count": 489,
     "metadata": {},
     "output_type": "execute_result"
    }
   ],
   "execution_count": 489
  },
  {
   "metadata": {
    "ExecuteTime": {
     "end_time": "2025-04-27T17:14:16.537494Z",
     "start_time": "2025-04-27T17:14:16.531282Z"
    }
   },
   "cell_type": "code",
   "source": "gcvs['svc_nmf'].best_params_",
   "id": "22e65091e6efbcf9",
   "outputs": [
    {
     "data": {
      "text/plain": [
       "{'nmf__n_components': None,\n",
       " 'svc__C': 6,\n",
       " 'svc__kernel': 'linear',\n",
       " 'vectorizing__text__max_df': 0.99,\n",
       " 'vectorizing__text__max_features': 150,\n",
       " 'vectorizing__text__min_df': 1,\n",
       " 'vectorizing__text__ngram_range': (1, 1),\n",
       " 'vectorizing__title__max_df': 0.99,\n",
       " 'vectorizing__title__max_features': 175,\n",
       " 'vectorizing__title__min_df': 1,\n",
       " 'vectorizing__title__ngram_range': (1, 2)}"
      ]
     },
     "execution_count": 490,
     "metadata": {},
     "output_type": "execute_result"
    }
   ],
   "execution_count": 490
  },
  {
   "metadata": {
    "ExecuteTime": {
     "end_time": "2025-04-27T18:59:58.672714Z",
     "start_time": "2025-04-27T18:59:58.664705Z"
    }
   },
   "cell_type": "code",
   "source": [
    "param_grids['kmeans'] = {}\n",
    "param_grids['kmeans']['vectorizing__title__max_features'] = [800]#[800, 1600]#[28,30, 32]\n",
    "param_grids['kmeans']['vectorizing__text__max_features'] = [2000]#[2,3,4]\n",
    "param_grids['kmeans']['vectorizing__title__ngram_range'] = [(1,2)]#[(1,1), (1,2), (1,3)]\n",
    "param_grids['kmeans']['vectorizing__text__ngram_range'] = [(1,3)]#[(1,4), (1,3)]\n",
    "param_grids['kmeans']['vectorizing__text__min_df'] = [1]#[1,2]\n",
    "param_grids['kmeans']['vectorizing__title__min_df'] = [4]#[5,4,3,2]\n",
    "param_grids['kmeans']['vectorizing__text__max_df'] = [.99]#[.99, .98]\n",
    "param_grids['kmeans']['vectorizing__title__max_df'] = [.99]#[.99, .98]#[5,4,3,2]\n",
    "param_grids['kmeans']['pca__whiten'] = [False]\n",
    "param_grids['kmeans']['pca__n_components'] = [450]#[50, 100, 150, 200, 250, 300, 350, 400, 450, 500]\n",
    "param_grids['kmeans']['kmeans__n_init'] = [1]#[1,2,4]\n"
   ],
   "id": "573c9e0cc30a1c66",
   "outputs": [],
   "execution_count": 617
  },
  {
   "metadata": {
    "ExecuteTime": {
     "end_time": "2025-04-27T19:01:53.388730Z",
     "start_time": "2025-04-27T18:59:58.922652Z"
    }
   },
   "cell_type": "code",
   "source": [
    "gcvs['kmeans'] = GridSearchCV(pipelines['kmeans'],\n",
    "                              param_grids['kmeans'],\n",
    "                              cv = 3, n_jobs = -1,\n",
    "                              verbose = 100).fit(X_train50, y_train50)"
   ],
   "id": "4a23a4aaf19eab22",
   "outputs": [
    {
     "name": "stdout",
     "output_type": "stream",
     "text": [
      "Fitting 3 folds for each of 2 candidates, totalling 6 fits\n"
     ]
    }
   ],
   "execution_count": 618
  },
  {
   "metadata": {
    "ExecuteTime": {
     "end_time": "2025-04-27T19:01:53.576509Z",
     "start_time": "2025-04-27T19:01:53.571092Z"
    }
   },
   "cell_type": "code",
   "source": "gcvs['kmeans'].best_score_",
   "id": "c46071d95eba21b0",
   "outputs": [
    {
     "data": {
      "text/plain": [
       "np.float64(0.9013669821240798)"
      ]
     },
     "execution_count": 619,
     "metadata": {},
     "output_type": "execute_result"
    }
   ],
   "execution_count": 619
  },
  {
   "metadata": {
    "ExecuteTime": {
     "end_time": "2025-04-27T19:02:05.099760Z",
     "start_time": "2025-04-27T19:01:53.576509Z"
    }
   },
   "cell_type": "code",
   "source": "gcvs['kmeans'].score(X_test50, y_test50)",
   "id": "9b2f25b91862eeb7",
   "outputs": [
    {
     "name": "stdout",
     "output_type": "stream",
     "text": [
      "Predicting...\n"
     ]
    },
    {
     "name": "stderr",
     "output_type": "stream",
     "text": [
      "C:\\Users\\theru\\scoop\\apps\\anaconda3\\current\\App\\envs\\DS\\Lib\\site-packages\\sklearn\\pipeline.py:62: FutureWarning: This Pipeline instance is not fitted yet. Call 'fit' with appropriate arguments before using other methods such as transform, predict, etc. This will raise an error in 1.8 instead of the current warning.\n",
      "  warnings.warn(\n"
     ]
    },
    {
     "data": {
      "text/plain": [
       "0.896372239747634"
      ]
     },
     "execution_count": 620,
     "metadata": {},
     "output_type": "execute_result"
    }
   ],
   "execution_count": 620
  },
  {
   "metadata": {
    "ExecuteTime": {
     "end_time": "2025-04-27T19:02:05.305026Z",
     "start_time": "2025-04-27T19:02:05.299675Z"
    }
   },
   "cell_type": "code",
   "source": "gcvs['kmeans'].best_params_",
   "id": "e90961cea112df2",
   "outputs": [
    {
     "data": {
      "text/plain": [
       "{'kmeans__n_init': 1,\n",
       " 'pca__n_components': 450,\n",
       " 'pca__whiten': False,\n",
       " 'vectorizing__text__max_df': 0.99,\n",
       " 'vectorizing__text__max_features': 2000,\n",
       " 'vectorizing__text__min_df': 1,\n",
       " 'vectorizing__text__ngram_range': (1, 3),\n",
       " 'vectorizing__title__max_df': 0.99,\n",
       " 'vectorizing__title__max_features': 800,\n",
       " 'vectorizing__title__min_df': 4,\n",
       " 'vectorizing__title__ngram_range': (1, 2)}"
      ]
     },
     "execution_count": 621,
     "metadata": {},
     "output_type": "execute_result"
    }
   ],
   "execution_count": 621
  },
  {
   "metadata": {
    "ExecuteTime": {
     "end_time": "2025-04-27T20:22:30.143325Z",
     "start_time": "2025-04-27T20:22:30.136193Z"
    }
   },
   "cell_type": "code",
   "source": [
    "param_grids['kmeans_nmf'] = {}\n",
    "param_grids['kmeans_nmf']['vectorizing__title__max_features'] = [500]#[400,500,600]#[300,400,500]#[800, 1600]#[28,30, 32]\n",
    "param_grids['kmeans_nmf']['vectorizing__text__max_features'] = [600]#[600, 700]#[550, 600, 650]#[2,3,4]\n",
    "param_grids['kmeans_nmf']['vectorizing__title__ngram_range'] = [(1,1)]#[(1,1), (1,2), (1,3)]\n",
    "param_grids['kmeans_nmf']['vectorizing__text__ngram_range'] = [(1,2)]#[(1,3), (1,2)]#[(1,4), (1,3)]\n",
    "param_grids['kmeans_nmf']['vectorizing__text__min_df'] = [1]#[1,2]\n",
    "param_grids['kmeans_nmf']['vectorizing__title__min_df'] = [1]#[5,4,3,2]\n",
    "param_grids['kmeans_nmf']['vectorizing__text__max_df'] = [.99]#[.99, .98]\n",
    "param_grids['kmeans_nmf']['vectorizing__title__max_df'] = [.99]#[.99, .98]#[5,4,3,2]\n",
    "param_grids['kmeans_nmf']['nmf__max_iter'] = [1000]\n",
    "param_grids['kmeans_nmf']['nmf__n_components'] = [10]#[2,4,8,10,12,14,16,18]#[10,11]#[11,12,13,14,15]#[50, 100, 150, 200, 250, 300, 350, 400, 450, 500]\n",
    "param_grids['kmeans_nmf']['nmf__random_state'] = [27]\n",
    "param_grids['kmeans_nmf']['nmf__init'] = ['nndsvda']#['nndsvd', 'nndsvda']\n",
    "param_grids['kmeans_nmf']['nmf__solver'] = ['cd']#['mu', 'cd']\n",
    "param_grids['kmeans_nmf']['kmeans__random_state'] = [27]\n",
    "param_grids['kmeans_nmf']['kmeans__n_init'] = [1]#[1,2,4]\n"
   ],
   "id": "573c60f1ed1e9964",
   "outputs": [],
   "execution_count": 830
  },
  {
   "metadata": {
    "ExecuteTime": {
     "end_time": "2025-04-27T20:24:36.404321Z",
     "start_time": "2025-04-27T20:22:30.390715Z"
    }
   },
   "cell_type": "code",
   "source": [
    "gcvs['kmeans_nmf'] = GridSearchCV(pipelines['kmeans_nmf'],\n",
    "                              param_grids['kmeans_nmf'],\n",
    "                              cv = 5, n_jobs = -1,\n",
    "                              verbose = 100).fit(X_train50, y_train50)\n"
   ],
   "id": "8b28d36b267c6904",
   "outputs": [
    {
     "name": "stdout",
     "output_type": "stream",
     "text": [
      "Fitting 5 folds for each of 8 candidates, totalling 40 fits\n"
     ]
    }
   ],
   "execution_count": 831
  },
  {
   "metadata": {
    "ExecuteTime": {
     "end_time": "2025-04-27T20:24:36.644766Z",
     "start_time": "2025-04-27T20:24:36.638970Z"
    }
   },
   "cell_type": "code",
   "source": "gcvs['kmeans_nmf'].best_score_",
   "id": "63d67bf26aa11953",
   "outputs": [
    {
     "data": {
      "text/plain": [
       "np.float64(0.9180336487907466)"
      ]
     },
     "execution_count": 832,
     "metadata": {},
     "output_type": "execute_result"
    }
   ],
   "execution_count": 832
  },
  {
   "metadata": {
    "ExecuteTime": {
     "end_time": "2025-04-27T20:24:44.010218Z",
     "start_time": "2025-04-27T20:24:36.736092Z"
    }
   },
   "cell_type": "code",
   "source": "gcvs['kmeans_nmf'].score(X_test50, y_test50)",
   "id": "e074da4cebdad5f9",
   "outputs": [
    {
     "name": "stdout",
     "output_type": "stream",
     "text": [
      "Predicting...\n"
     ]
    },
    {
     "name": "stderr",
     "output_type": "stream",
     "text": [
      "C:\\Users\\theru\\scoop\\apps\\anaconda3\\current\\App\\envs\\DS\\Lib\\site-packages\\sklearn\\pipeline.py:62: FutureWarning: This Pipeline instance is not fitted yet. Call 'fit' with appropriate arguments before using other methods such as transform, predict, etc. This will raise an error in 1.8 instead of the current warning.\n",
      "  warnings.warn(\n"
     ]
    },
    {
     "data": {
      "text/plain": [
       "0.9086225026288117"
      ]
     },
     "execution_count": 833,
     "metadata": {},
     "output_type": "execute_result"
    }
   ],
   "execution_count": 833
  },
  {
   "metadata": {
    "ExecuteTime": {
     "end_time": "2025-04-27T20:24:44.203049Z",
     "start_time": "2025-04-27T20:24:44.196654Z"
    }
   },
   "cell_type": "code",
   "source": "gcvs['kmeans_nmf'].best_params_",
   "id": "ccda48eed590bde",
   "outputs": [
    {
     "data": {
      "text/plain": [
       "{'kmeans__n_init': 1,\n",
       " 'kmeans__random_state': 27,\n",
       " 'nmf__init': 'nndsvda',\n",
       " 'nmf__max_iter': 1000,\n",
       " 'nmf__n_components': 10,\n",
       " 'nmf__random_state': 27,\n",
       " 'nmf__solver': 'cd',\n",
       " 'vectorizing__text__max_df': 0.99,\n",
       " 'vectorizing__text__max_features': 600,\n",
       " 'vectorizing__text__min_df': 1,\n",
       " 'vectorizing__text__ngram_range': (1, 2),\n",
       " 'vectorizing__title__max_df': 0.99,\n",
       " 'vectorizing__title__max_features': 500,\n",
       " 'vectorizing__title__min_df': 1,\n",
       " 'vectorizing__title__ngram_range': (1, 1)}"
      ]
     },
     "execution_count": 834,
     "metadata": {},
     "output_type": "execute_result"
    }
   ],
   "execution_count": 834
  },
  {
   "metadata": {},
   "cell_type": "code",
   "outputs": [],
   "execution_count": null,
   "source": "",
   "id": "a60d85c406558256"
  }
 ],
 "metadata": {
  "kernelspec": {
   "display_name": "Python 3",
   "language": "python",
   "name": "python3"
  },
  "language_info": {
   "codemirror_mode": {
    "name": "ipython",
    "version": 2
   },
   "file_extension": ".py",
   "mimetype": "text/x-python",
   "name": "python",
   "nbconvert_exporter": "python",
   "pygments_lexer": "ipython2",
   "version": "2.7.6"
  }
 },
 "nbformat": 4,
 "nbformat_minor": 5
}
