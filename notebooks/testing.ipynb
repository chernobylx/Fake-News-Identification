{
 "cells": [
  {
   "cell_type": "code",
   "id": "initial_id",
   "metadata": {
    "collapsed": true,
    "ExecuteTime": {
     "end_time": "2025-04-28T01:11:24.003076Z",
     "start_time": "2025-04-28T01:11:22.965548Z"
    }
   },
   "source": [
    "import spacy\n",
    "import pandas as pd\n",
    "from matplotlib import pyplot as plt\n",
    "import seaborn as sns\n",
    "from sklearn.inspection import DecisionBoundaryDisplay\n",
    "\n",
    "from FakeNews.Tokenizer import Tokenizer\n",
    "from FakeNews.Data import Data\n",
    "from FakeNews.Cleaner import Cleaner\n",
    "from FakeNews.Filter import Filter\n",
    "from FakeNews.Lemmatizer import Lemmatizer\n",
    "from FakeNews.Predictor import Predictor\n",
    "from sklearn.feature_extraction.text import TfidfVectorizer\n",
    "\n",
    "from sklearn.model_selection import GridSearchCV\n",
    "from sklearn.model_selection import train_test_split as tts\n",
    "from sklearn.decomposition import PCA\n",
    "from sklearn.decomposition import NMF\n",
    "\n",
    "from sklearn.svm import SVC\n",
    "from sklearn.cluster import KMeans\n",
    "from sklearn.neighbors import KNeighborsClassifier\n",
    "\n",
    "from sklearn.pipeline import Pipeline\n",
    "from sklearn.compose import ColumnTransformer"
   ],
   "outputs": [],
   "execution_count": 1
  },
  {
   "metadata": {
    "ExecuteTime": {
     "end_time": "2025-04-28T01:11:24.158042Z",
     "start_time": "2025-04-28T01:11:24.154697Z"
    }
   },
   "cell_type": "code",
   "source": [
    "cleaner = Cleaner()\n",
    "#pp = Pipeline([('tokenizing', Tokenizer()),\n",
    "              #('filtering', Filter()),\n",
    "              #('lemmatizing', Lemmatizer())])\n"
   ],
   "id": "68b09eb2912c4574",
   "outputs": [],
   "execution_count": 2
  },
  {
   "metadata": {
    "ExecuteTime": {
     "end_time": "2025-04-28T01:11:24.172726Z",
     "start_time": "2025-04-28T01:11:24.169751Z"
    }
   },
   "cell_type": "code",
   "source": "pipelines = {}",
   "id": "d2dcb6301b0af52b",
   "outputs": [],
   "execution_count": 3
  },
  {
   "metadata": {
    "ExecuteTime": {
     "end_time": "2025-04-28T01:11:24.240793Z",
     "start_time": "2025-04-28T01:11:24.238223Z"
    }
   },
   "cell_type": "code",
   "source": [
    "pipelines['svc'] = Pipeline([('vectorizing', ColumnTransformer([('title', TfidfVectorizer(), 0),\n",
    "                                                   ('text', TfidfVectorizer(), 1)])),\n",
    "                ('pca', PCA()),\n",
    "                ('svc', SVC())])"
   ],
   "id": "d60a1a32d45d207d",
   "outputs": [],
   "execution_count": 4
  },
  {
   "metadata": {
    "ExecuteTime": {
     "end_time": "2025-04-28T01:11:24.305288Z",
     "start_time": "2025-04-28T01:11:24.292197Z"
    }
   },
   "cell_type": "code",
   "source": [
    "pipelines['svc_nmf'] = Pipeline([('vectorizing', ColumnTransformer([('title', TfidfVectorizer(), 0),\n",
    "                                                    ('text', TfidfVectorizer(), 1)])),\n",
    "                 ('nmf', PCA()),\n",
    "                 ('svc', SVC())])"
   ],
   "id": "527e8533bcf0cdb3",
   "outputs": [],
   "execution_count": 5
  },
  {
   "metadata": {
    "ExecuteTime": {
     "end_time": "2025-04-28T01:11:24.381635Z",
     "start_time": "2025-04-28T01:11:24.377896Z"
    }
   },
   "cell_type": "code",
   "source": [
    "pipelines['kmeans'] = Pipeline([('vectorizing', ColumnTransformer([('title', TfidfVectorizer(), 0),\n",
    "                                                      ('text', TfidfVectorizer(), 1)])),\n",
    "                   ('pca', PCA()),\n",
    "                   ('kmeans', KMeans(n_clusters=2, random_state=27)),\n",
    "                   ('predicting', Predictor())])"
   ],
   "id": "37b8db5f36798db4",
   "outputs": [],
   "execution_count": 6
  },
  {
   "metadata": {
    "ExecuteTime": {
     "end_time": "2025-04-28T01:11:24.432876Z",
     "start_time": "2025-04-28T01:11:24.429190Z"
    }
   },
   "cell_type": "code",
   "source": [
    "pipelines['kmeans_nmf'] = Pipeline([('vectorizing', ColumnTransformer([('title', TfidfVectorizer(), 0),\n",
    "                                                                   ('text', TfidfVectorizer(), 1)])),\n",
    "                                ('nmf', NMF()),\n",
    "                                ('kmeans', KMeans(n_clusters=2, random_state=27)),\n",
    "                                ('predicting', Predictor())])"
   ],
   "id": "8759f8169697f24a",
   "outputs": [],
   "execution_count": 7
  },
  {
   "metadata": {
    "ExecuteTime": {
     "end_time": "2025-04-28T01:11:26.432261Z",
     "start_time": "2025-04-28T01:11:24.481929Z"
    }
   },
   "cell_type": "code",
   "source": [
    "data = Data()\n",
    "data.load()\n",
    "cleaner.fit(data.X)\n",
    "data.X = cleaner.transform(data.X)\n",
    "data.y = cleaner.transform(data.y)"
   ],
   "id": "82989a98070d110",
   "outputs": [
    {
     "name": "stdout",
     "output_type": "stream",
     "text": [
      "Cleaning...\n",
      "Cleaning...\n"
     ]
    }
   ],
   "execution_count": 8
  },
  {
   "metadata": {
    "ExecuteTime": {
     "end_time": "2025-04-28T01:11:26.464492Z",
     "start_time": "2025-04-28T01:11:26.458517Z"
    }
   },
   "cell_type": "code",
   "source": "data.X",
   "id": "e72d31724c3c70eb",
   "outputs": [
    {
     "data": {
      "text/plain": [
       "array([['As U.S. budget fight looms, Republicans flip their fiscal script',\n",
       "        'WASHINGTON (Reuters) - The head of a conservative Republican faction in the U.S. Congress, who voted this month for a huge expansion of the national debt to pay for tax cuts, called himself a “fiscal conservative” on Sunday and urged budget restraint in 2018. In keeping with a sharp pivot under way among Republicans, U.S. Representative Mark Meadows, speaking on CBS’ “Face the Nation,” drew a hard line on federal spending, which lawmakers are bracing to do battle over in January. When they return from the holidays on Wednesday, lawmakers will begin trying to pass a federal budget in a fight likely to be linked to other issues, such as immigration policy, even as the November congressional election campaigns approach in which Republicans will seek to keep control of Congress. President Donald Trump and his Republicans want a big budget increase in military spending, while Democrats also want proportional increases for non-defense “discretionary” spending on programs that support education, scientific research, infrastructure, public health and environmental protection. “The (Trump) administration has already been willing to say: ‘We’re going to increase non-defense discretionary spending ... by about 7 percent,’” Meadows, chairman of the small but influential House Freedom Caucus, said on the program. “Now, Democrats are saying that’s not enough, we need to give the government a pay raise of 10 to 11 percent. For a fiscal conservative, I don’t see where the rationale is. ... Eventually you run out of other people’s money,” he said. Meadows was among Republicans who voted in late December for their party’s debt-financed tax overhaul, which is expected to balloon the federal budget deficit and add about $1.5 trillion over 10 years to the $20 trillion national debt. “It’s interesting to hear Mark talk about fiscal responsibility,” Democratic U.S. Representative Joseph Crowley said on CBS. Crowley said the Republican tax bill would require the  United States to borrow $1.5 trillion, to be paid off by future generations, to finance tax cuts for corporations and the rich. “This is one of the least ... fiscally responsible bills we’ve ever seen passed in the history of the House of Representatives. I think we’re going to be paying for this for many, many years to come,” Crowley said. Republicans insist the tax package, the biggest U.S. tax overhaul in more than 30 years,  will boost the economy and job growth. House Speaker Paul Ryan, who also supported the tax bill, recently went further than Meadows, making clear in a radio interview that welfare or “entitlement reform,” as the party often calls it, would be a top Republican priority in 2018. In Republican parlance, “entitlement” programs mean food stamps, housing assistance, Medicare and Medicaid health insurance for the elderly, poor and disabled, as well as other programs created by Washington to assist the needy. Democrats seized on Ryan’s early December remarks, saying they showed Republicans would try to pay for their tax overhaul by seeking spending cuts for social programs. But the goals of House Republicans may have to take a back seat to the Senate, where the votes of some Democrats will be needed to approve a budget and prevent a government shutdown. Democrats will use their leverage in the Senate, which Republicans narrowly control, to defend both discretionary non-defense programs and social spending, while tackling the issue of the “Dreamers,” people brought illegally to the country as children. Trump in September put a March 2018 expiration date on the Deferred Action for Childhood Arrivals, or DACA, program, which protects the young immigrants from deportation and provides them with work permits. The president has said in recent Twitter messages he wants funding for his proposed Mexican border wall and other immigration law changes in exchange for agreeing to help the Dreamers. Representative Debbie Dingell told CBS she did not favor linking that issue to other policy objectives, such as wall funding. “We need to do DACA clean,” she said.  On Wednesday, Trump aides will meet with congressional leaders to discuss those issues. That will be followed by a weekend of strategy sessions for Trump and Republican leaders on Jan. 6 and 7, the White House said. Trump was also scheduled to meet on Sunday with Florida Republican Governor Rick Scott, who wants more emergency aid. The House has passed an $81 billion aid package after hurricanes in Florida, Texas and Puerto Rico, and wildfires in California. The package far exceeded the $44 billion requested by the Trump administration. The Senate has not yet voted on the aid. ',\n",
       "        'politicsNews', 'December 31, 2017 '],\n",
       "       ['U.S. military to accept transgender recruits on Monday: Pentagon',\n",
       "        'WASHINGTON (Reuters) - Transgender people will be allowed for the first time to enlist in the U.S. military starting on Monday as ordered by federal courts, the Pentagon said on Friday, after President Donald Trump’s administration decided not to appeal rulings that blocked his transgender ban. Two federal appeals courts, one in Washington and one in Virginia, last week rejected the administration’s request to put on hold orders by lower court judges requiring the military to begin accepting transgender recruits on Jan. 1. A Justice Department official said the administration will not challenge those rulings. “The Department of Defense has announced that it will be releasing an independent study of these issues in the coming weeks. So rather than litigate this interim appeal before that occurs, the administration has decided to wait for DOD’s study and will continue to defend the president’s lawful authority in District Court in the meantime,” the official said, speaking on condition of anonymity. In September, the Pentagon said it had created a panel of senior officials to study how to implement a directive by Trump to prohibit transgender individuals from serving. The Defense Department has until Feb. 21 to submit a plan to Trump. Lawyers representing currently-serving transgender service members and aspiring recruits said they had expected the administration to appeal the rulings to the conservative-majority Supreme Court, but were hoping that would not happen. Pentagon spokeswoman Heather Babb said in a statement: “As mandated by court order, the Department of Defense is prepared to begin accessing transgender applicants for military service Jan. 1. All applicants must meet all accession standards.” Jennifer Levi, a lawyer with gay, lesbian and transgender advocacy group GLAD, called the decision not to appeal “great news.” “I’m hoping it means the government has come to see that there is no way to justify a ban and that it’s not good for the military or our country,” Levi said. Both GLAD and the American Civil Liberties Union represent plaintiffs in the lawsuits filed against the administration. In a move that appealed to his hard-line conservative supporters, Trump announced in July that he would prohibit transgender people from serving in the military, reversing Democratic President Barack Obama’s policy of accepting them. Trump said on Twitter at the time that the military “cannot be burdened with the tremendous medical costs and disruption that transgender in the military would entail.” Four federal judges - in Baltimore, Washington, D.C., Seattle and Riverside, California - have issued rulings blocking Trump’s ban while legal challenges to the Republican president’s policy proceed. The judges said the ban would likely violate the right under the U.S. Constitution to equal protection under the law. The Pentagon on Dec. 8 issued guidelines to recruitment personnel in order to enlist transgender applicants by Jan. 1. The memo outlined medical requirements and specified how the applicants’ sex would be identified and even which undergarments they would wear. The Trump administration previously said in legal papers that the armed forces were not prepared to train thousands of personnel on the medical standards needed to process transgender applicants and might have to accept “some individuals who are not medically fit for service.” The Obama administration had set a deadline of July 1, 2017, to begin accepting transgender recruits. But Trump’s defense secretary, James Mattis, postponed that date to Jan. 1, 2018, which the president’s ban then put off indefinitely. Trump has taken other steps aimed at rolling back transgender rights. In October, his administration said a federal law banning gender-based workplace discrimination does not protect transgender employees, reversing another Obama-era position. In February, Trump rescinded guidance issued by the Obama administration saying that public schools should allow transgender students to use the restroom that corresponds to their gender identity. ',\n",
       "        'politicsNews', 'December 29, 2017 '],\n",
       "       [\"Senior U.S. Republican senator: 'Let Mr. Mueller do his job'\",\n",
       "        'WASHINGTON (Reuters) - The special counsel investigation of links between Russia and President Trump’s 2016 election campaign should continue without interference in 2018, despite calls from some Trump administration allies and Republican lawmakers to shut it down, a prominent Republican senator said on Sunday. Lindsey Graham, who serves on the Senate armed forces and judiciary committees, said Department of Justice Special Counsel Robert Mueller needs to carry on with his Russia investigation without political interference. “This investigation will go forward. It will be an investigation conducted without political influence,” Graham said on CBS’s Face the Nation news program. “And we all need to let Mr. Mueller do his job. I think he’s the right guy at the right time.”  The question of how Russia may have interfered in the election, and how Trump’s campaign may have had links with or co-ordinated any such effort, has loomed over the White House since Trump took office in January. It shows no sign of receding as Trump prepares for his second year in power, despite intensified rhetoric from some Trump allies in recent weeks accusing Mueller’s team of bias against the Republican president. Trump himself seemed to undercut his supporters in an interview last week with the New York Times in which he said he expected Mueller was “going to be fair.”    Russia’s role in the election and the question of possible links to the Trump campaign are the focus of multiple inquiries in Washington. Three committees of the Senate and the House of Representatives are investigating, as well as Mueller, whose team in May took over an earlier probe launched by the U.S. Federal Bureau of Investigation (FBI). Several members of the Trump campaign and administration have been convicted or indicted in the investigation.  Trump and his allies deny any collusion with Russia during the campaign, and the Kremlin has denied meddling in the election. Graham said he still wants an examination of the FBI’s use of a dossier on links between Trump and Russia that was compiled by a former British spy, Christopher Steele, which prompted Trump allies and some Republicans to question Mueller’s inquiry.   On Saturday, the New York Times reported that it was not that dossier that triggered an early FBI probe, but a tip from former Trump campaign foreign policy adviser George Papadopoulos to an Australian diplomat that Russia had damaging information about former Trump rival Hillary Clinton.  “I want somebody to look at the way the Department of Justice used this dossier. It bothers me greatly the way they used it, and I want somebody to look at it,” Graham said. But he said the Russia investigation must continue. “As a matter of fact, it would hurt us if we ignored it,” he said. ',\n",
       "        'politicsNews', 'December 31, 2017 '],\n",
       "       ...,\n",
       "       ['BOILER ROOM – No Surrender, No Retreat, Heads Will Roll  – EP #38',\n",
       "        'Tune in to the Alternate Current Radio Network (ACR) for another LIVE broadcast of  The Boiler Room  starting at 6 PM PST | 9 PM EST every Wednesday. Join us for uncensored, uninterruptible talk radio, custom-made for barfly philosophers, misguided moralists, masochists, street corner evangelists, media-maniacs, savants, political animals and otherwise lovable rascals.Join ACR hosts Hesher, & Spore along with Andy Nowicki from Alt Right Blogspot, ACR/21Wire contributor Randy J and Daniel Spaulding from souloftheeast.org. In this first broadcast of 2016 we re going off the rails and off the cuffs, listeners will be hearing us go around the BOILER ROOM on a myriad of topics including the Protest happening in Oregon over the Hammond Ranch incident and the federal abuse of small ranchers and farmers, the usual off-ramp into pop-culture topics, Obama s newest anti-gun executive order and more. If you want to participate, bring something interesting to throw into the boiler Join us in the ALTERNATE CURRENT RADIO chat room.BOILER ROOM IS NOT A POLICTALLY CORRECT ZONE!   Live ACR player below   Show goes live at 6 PM PSTThis week s topics: ',\n",
       "        'US_News', 'January 6, 2016'],\n",
       "       ['Federal Showdown Looms in Oregon After BLM Abuse of Local Ranching Family – Bundys Lead Protest',\n",
       "        '21st Century Wire says A new front has just opened up in the long battle between America s small farmers and the US federal government. DOUBLE JEOPARDY: Ranching family members Dwight Hammond (left) and his son Steven Hammond were sentenced twice for the same crime by federal officials.Late last week, approximately 150 people marched to the Harney County, Oregon, Sheriffs office in a peaceful protest of the unlawful jailing of two Oregon ranchers, father, Dwight Hammond, 73, and son, Steven Hammond, 46, over accusations of arson for carrying out prescribed burnings on their family-owned cattle ranch in 2001 and 2006. The family and their supporters accuse the federal Bureau of Land Management (BLM) of carrying out a decades-long pattern of abuse and persecution against the Hammonds in a coordinated effort to drive them out of the family ranching business.The scene in Burns, Oregon, Saturday morning as protestors gather in support of 2 ranchers going to prison. pic.twitter.com/ec6tmdeTik  Les Zaitz (@LesZaitz) January 2, 2016After a protest convened, a large group of supporters, including members of the Bundy family from Bunkerville, Nevada, left the public gathering and headed 50 miles outside of Burns, Oregon, (Burns is  located approximately 4 hours southeast of Portland), to the Malheur Wildlife Refuge Center, run by the BLM. The protesters have stated that their plan is to occupy the federal facility.Malheur National Wildlife building.Because of the venue s remote location, only a few journalists were able to report on the story over the weekend, but that was set to change on today, with dozens of new national media outlets arriving and setting up camp this morning. Law enforcement has already issued warnings for people to stay away, and the Sheriff s office has also informed media to expect  multiple agencies  (state and federal law enforcement) to be there on Monday morning.Below is a video statement (recorded on Jan 1st) from the protest s spokesman, Ammon Bundy, making an impassioned appeal for public support in a campaign for justice and redress of grievances for the Hammond family and also for additional support to help occupy the Malheur National Wildlife Refuge facility. Since the call went out through social media, a number of supporters and militia members from around the country have started to arrive on-site, with many more expected to arrive in the coming days and weeks.Watch: A video update from protesters and militia members as they arrive on location at the Malheur National Wildlife Refuge site:  The United States Justice Department has NO jurisdiction or authority within the State of Oregon, County of Harney over this type of ranch management. These lands are not under U.S. treaties or commerce, they are not article 4 territories, and Congress does not have unlimited power. These lands have been admitted into statehood and are part of the great State of Oregon and the citizens of Harney County enjoy the fullness of the protections of the U.S. Constitution. The U.S. Constitution limits United States government.  (see the full letter here) As expected, the media coverage on this story has been extremely partisan, with many left-leaning outlets like CNN already characterizing this story as a  Militia Takeover of Federal Building  by a  anti-government gang with guns , without giving any real background commentary to the protracted legal controversy that had preceded events this week. One local affiliate KOIN6, even used the term  militants  in the headline to describe protesters on site. The following report from Conservative Treehouse, tells an incredible story of corruption and abuse of power by the federal government, its agents and courts, in what can only be described as a federal vendetta against the local family. Here s the Hammond Ranch case timeline The short summary is:  in an effort to draw attention to a ridiculous arrest of a father and son pair of Oregon Ranchers ( Dwight Lincoln Hammond, Jr., 73, and his son, Steven Dwight Hammond, 46,) who are scheduled to begin five year prison sentences (turning themselves in tomorrow January 4th 2016), three brothers from the Cliven Bundy family and approximately 100/150 (and growing) heavily armed militia (former U.S. service members) have taken control of Malheur Wildlife Refuge Headquarters in the wildlife reserve.  They are prepared to stay there indefinitely.Here s the long version: including history, details, links video(s) and explanations: PHOTO: The Hammond FamilyHISTORY: (aa) The Harney Basin (where the Hammond ranch is established) was settled in the 1870 s. The valley was settled by multiple ranchers and was known to have run over 300,000 head of cattle. These ranchers developed a state of the art irrigated system to water the meadows, and it soon became a favorite stopping place for migrating birds on their annual trek north.(ab) In 1908 President Theodore Roosevelt, in a political scheme, create an  Indian reservation  around the Malheur, Mud & Harney Lakes and declared it  as a preserve and breeding ground for native birds . Later this  Indian reservation  (without Indians) became the Malheur National Wildlife Refuge.(a) In 1964 the Hammonds purchased their ranch in the Harney Basin. The purchase included approximately 6000 acres of private property, 4 grazing rights on public land, a small ranch house and 3 water rights. The ranch is around 53 miles South of Burns, Oregon.(a1) By the 1970 s nearly all the ranches adjacent to the Blitzen Valley were purchased by the US Fish and Wildlife Service (FWS) and added to the Malheur National Wildlife Refuge. The refuge covers over 187,000 acres and stretches over 45 miles long and 37 miles wide. The expansion of the refuge grew and surrounds the Hammond s ranch. Being approached many times by the FWS, the Hammonds refused to sell. Other ranchers also choose not to sell.(a2) During the 1970 s the Fish and Wildlife Service (FWS), in conjunction with the Bureau of Land Management (BLM), took a different approach to get the ranchers to sell. Ranchers were told that,  grazing was detrimental to wildlife and must be reduced . 32 out of 53 permits were revoked and many ranchers were forced to leave. Grazing fees were raised significantly for those who were allowed to remain. Refuge personnel took over the irrigation system claiming it as their own.(a3) By 1980 a conflict was well on its way over water allocations on the adjacent privately owned Silvies Plain. The FWS wanted to acquire the ranch lands on the Silvies Plain to add to their already vast holdings. Refuge personnel intentionally diverted the water to bypass the vast meadowlands, directing the water into the rising Malheur Lakes. Within a few short years the surface area of the lakes doubled. Thirty-one ranches on the Silvies plains were flooded. Homes, corrals, barns and graze-land were washed away and destroyed. The ranchers that once fought to keep the FWS from taking their land, now broke and destroyed, begged the FWS to acquire their useless ranches. In 1989 the waters began to recede and the once thriving privately owned Silvies pains became a proud part of the Malheur National Wildlife Refuge claimed by the FWS.(a4) By the 1990 s the Hammonds were one of the very few ranchers that still owned private property adjacent to the refuge. Susie Hammond in an effort to make sense of what was going on began compiling fact about the refuge. In a hidden public record she found a study that was done by the FWS in 1975. The study showed that the  no use  policies of the FWS on the refuge were causing the wildlife to leave the refuge and move to private property. The study showed that the private property adjacent to the Malheur Wildlife Refuge produced 4 times more ducks and geese than the refuge did. It also showed that the migrating birds were 13 times more likely to land on private property than on the refuge. When Susie brought this to the attention of the FWS and refuge personnel, she and her family became the subjects of a long train of abuses and corruptions.(b) In the early 1990 s the Hammonds filed on a livestock water source and obtained a deed for the water right from the State of Oregon. When the Bureau of Land Management (BLM) and US Fish and Wildlife Service (FWS) found out that the Hammonds obtained new water rights near the Malhuer Wildlife Refuge, they were agitated and became belligerent and vindictive towards the Hammonds. The US Fish and Wildlife Service challenged the Hammonds right to the water in an Oregon State Circuit Court. The court found that the Hammonds legally obtained rights to the water in accordance to State law and therefore the use of the water belongs to the Hammonds.*(c) In August 1994 the BLM & FWS illegally began building a fence around the Hammonds water source. Owning the water rights and knowing that their cattle relied on that water source daily, the Hammonds tried to stop the building of the fence. The BLM & FWS called the Harney County Sheriff department and had Dwight Hammond (Father) arrested and charged with  disturbing and interfering with  federal officials or federal contractors (two counts, each a felony). He spent one night in the Deschutes County Jail in Bend, and a second night behind bars in Portland before he was hauled before a federal magistrate and released without bail. A hearing on the charges was postponed and the federal judge never set another date.(d) The FWS also began restricting access to upper pieces of the Hammond s private property. In order to get to the upper part of the Hammond s ranch they had to go on a road that went through the Malhuer Wildlife Refuge. The FWS began barricading the road and threatening the Hammonds if they drove through it. The Hammonds removed the barricades and gates and continued to use their right of access. The road was proven later to be owned by the County of Harney. This further enraged the BLM & FWS.(e) Shortly after the road & water disputes, the BLM & FWS arbitrarily revoked the Hammond s upper grazing permit without any given cause, court proceeding or court ruling. As a traditional  fence out state , Oregon requires no obligation on the part of an owner to keep his or her livestock within a fence or to maintain control over the movement of the livestock. The Hammonds intended to still use their private property for grazing. However, they were informed that a federal judge ruled, in a federal court, that the federal government did not have to observe the Oregon fence out law.  Those laws are for the people, not for them .(f) The Hammonds were forced to either build and maintain miles of fences or be restricted from the use of their private property. Cutting their ranch almost in half, they could not afford to fence the land, so the cattle were removed.(g) The Hammonds experienced many years of financial hardship due to the ranch being diminished. The Hammonds had to sell their ranch and home in order to purchase another property that had enough grass to feed their cattle. This property included two grazing rights on public land. Those were also arbitrarily revoked later.(h) The owner of the Hammond s original ranch passed away from a heart attack and the Hammonds made a trade for the ranch back.(i) In the early fall of 2001, Steven Hammond (son) called the fire department, informing them that he was going to be performing a routine prescribed burn on their ranch. Later that day he started a prescribed fire on their private property. The fire spread to public land and burned 127 acres of grass. The Hammonds put the fire out themselves. There was no communication about the burn from the federal government to the Hammonds at that time. Prescribed fires are a common method that Native Americans and ranchers have used in the area to increase the health & productivity of the land for many centuries.(j) In 2006 a massive lightning storm started multiple fires that joined together inflaming the countryside. To prevent the fire from destroying their winter range and possibly their home, Steven Hammond (son) started a backfire on their private property. The backfire was successful in putting out the lightning fires that had covered thousands of acres within a short period of time. The backfire saved much of the range and vegetation needed to feed the cattle through the winter. Steven s mother, Susan Hammond said:  The backfire worked perfectly, it put out the fire, saved the range and possibly our home .(j1) The next day federal agents went to the Harney County Sheriff s office and filled a police report making accusing Dwight and Steven Hammond of starting the backfire. A few days after the backfire a Range-Con from the Burns District BLM office asked Steven if he would meet him in town (Frenchglen) for coffee. Steven accepted. When leaving he was arrested by Harney County Sheriff Dave Glerup and BLM Ranger Orr. the Sheriff  then ordered him to go to the ranch and bring back his father. Both Dwight and Steven were booked on multiple Oregon State charges. The Harney County District Attorney reviewed the accusation, evidence and charges, and determined that the accusations against Dwight & Steven Hammond did not warrant prosecution and dropped all the charges.(k) In 2011, 5 years after the police report was taken, the U.S. Attorney s Office accused Dwight and Steven Hammond of completely different charges, they accused them of being  Terrorist  under the Federal Antiterrorism Effective Death Penalty Act of 1996. This act carries a minimum sentence of five years in prison and a maximum sentence of death. Dwight & Steven s mug shots were all over the news the next week posing them as  Arsonists . Susan Hammond (Wife & Mother) said:  I would walk down the street or go in a store, people I had known for years would take extreme measures to avoid me .(l) Shortly after the sentencing, Capital Press ran a story about the Hammonds. A person who identified as Greg Allum posted three comments on the article, calling the ranchers  clowns  who endangered firefighters and other people in the area while burning valuable rangeland. Greg Allum, a retired BLM heavy equipment operator, soon called Capital Press to complain that he had not made those comments and request that they be taken down from the website. Capital Press removed the comments. A search of the Internet Protocol address associated with the comments revealed it is owned by the BLM s office in Denver, Colorado. Allum said, he is friends with the Hammonds and was alerted to the comments by neighbors who knew he wouldn t have written them.  I feel bad for them. They lost a lot and they re going to lose more,  Allum said of the ranchers.  They re not terrorists. There s this hatred in the BLM for them, and I don t get it,  The retired BLM employee said. Jody Weil, deputy state director for communications at BLM s Oregon office, indicated to reporters that if one of their agents falsified the comments, they would keep it private and not inform the public.(m) In September 2006, Dwight & Susan Hammond s home was raided. The agents informed the Hammonds that they were looking for evidence that would connect them to the fires. The Hammonds later found out that a boot print and a tire tracks were found near one of the many fires. No matching boots or tires were found in the Hammonds home or on their property. Susan Hammond (Wife) later said;   I have never felt so violated in my life. We are ranchers not criminals . Steven Hammond openly maintains his testimony that he started the backfire to save the winter grass from being destroyed and that the backfire ended up working so well it put out the fire entirely altogether.(n) During the trial proceedings, Federal Court Judge Michael Hogan did not allow time for certain testimonies and evidence into the trail that would have exonerated the Hammonds. Federal prosecuting attorney, Frank Papagni, was given full access for 6 days. He had ample time to use any evidence or testimony that strengthened the demonization of the Hammonds. The Hammonds attorney was only allowed 1 day. Much of the facts about the fires, land and why the Hammonds acted the way they did was not allowed into the proceedings and was not heard by the jury. For example, Judge Hogan did not allow time for the jury to hear or review certified scientific findings that the fires improved the health and productivity of the land. Or, that the Hammonds had been subject to vindictive behavior by multiple federal agencies for years.(o) Federal attorney, Frank Papagni, hunted down a witness that was not mentally capable of being a credible witness. Dusty Hammond (grandson and nephew) testified that Steven told him to start a fire. He was 13 at the time and 24 when he testified (11 years later). At 24 Dusty had been suffering with mental problems for many years. He had estranged his family including his mother. Judge Hogan noted that Dusty s memories as a 13-year-old boy were not clear or credible. He allowed the prosecution to continually use Dusty s testimony anyway. When speaking to the Hammonds about this testimony, they understood that Dusty was manipulated and expressed nothing but love for their troubled grandson.(p) Judge Michael Hogan & Frank Papagni tampered with the jury many times throughout the proceedings, including during the selection process. Hogan & Papagni only allowed people on the jury who did not understand the customs and culture of the ranchers or how the land is used and cared for in the Diamond Valley. All of the jurors had to drive back and forth to Pendleton everyday. Some drove more than two hours each way. By day 8 they were exhausted and expressed desires to be home.On the final day, Judge Hogan kept pushing them to make a verdict. Several times during deliberation, Judge Hogan pushed them to make a decision. Judge Hogan also would not allow the jury to hear what punishment could be imposed upon an individual that has convicted as a terrorist under the 1996 act. The jury, not understanding the customs and cultures of the area, influenced by the prosecutors for 6 straight days, very exhausted, pushed for a verdict by the judge, unaware of the ramification of convicting someone as a terrorist, made a verdict and went home.(q) June 22, 2012, Dwight and Steven were found guilty of starting both the 2001 and the 2006 fires by the jury. However, the federal courts convicted them both as  Terrorist  under the 1996 Antiterrorism Act. Judge Hogan sentenced Dwight (Father) to 3 months in prison and Steven (son) to 12 months in federal prison. They were also stipulated to pay $400,000 to the BLM. Hogan overruling the minimum terrorist sentence, commenting that if the full five years were required it would be a violation of the 8th amendment (cruel and unusual punishment). The day of the sentencing Judge Hogan retired as a federal judge. In his honor the staff served chocolate cake in the courtroom.(r) On January 4, 2013, Dwight and Steven reported to prison. They fulfilled their sentences, (Dwight 3 months, Steven 12 months). Dwight was released in March 2013 and Steven, January 2014.(s) Sometime in June 2014, Rhonda Karges, Field Manager for the BLM, and her husband Chad Karges, Refuge Manager for the Malheur Wildlife Refuge (which surrounds the Hammond ranch), along with attorney Frank Papagni exemplifying further vindictive behavior filed an appeal with the 9th District Federal Court seeking Dwight s and Steven s return to federal prison for the entire 5 years.*(t) In October 2015, the 9th District Court  resentenced  Dwight and Steven, requiring them to return to prison for several more years. Steven (46) has a wife and 3 children. Dwight (74) will leave Susan (74) to be alone after 55 years of marriage. If he survives, he will be 79 when he is released.(u) During the court preceding the Hammonds were forced to grant the BLM first right of refusal. If the Hammonds ever sold their ranch they would have to sell it to the BLM.(v) Dwight and Steven are ordered to report to federal prison again on January 4th, 2016 to begin their re-sentencing. Both their wives will have to manage the ranch for several years without them.To date they have paid $200,000 to the BLM, and the remainder $200,000 must be paid before the end of this year (2015). If the Hammonds cannot pay the fines to the BLM, they will be forced to sell the ranch to the BLM or face further prosecution. (more citations here) See updates at Conservative TreehouseHere is another video update from Ammon Bundy: SUPPORT 21WIRE  SUBSCRIBE & BECOME A MEMBER @ 21WIRE.TV',\n",
       "        'US_News', 'January 4, 2016'],\n",
       "       ['A Troubled King: Chicago’s Rahm Emanuel Desperate to Save His 2020 Presidential Run',\n",
       "        '21st Century Wire says It s not that far away. Guess who wants to run for president in 2020?Just before the New Year bell rung, the embattled Chicago Mayor Rahm Israel Emanuel (D) was forced to cut short his family vacation in Cuba, and headed back to the windy city after yet another embarrassing police shooting last week which claimed two lives as police responding to a  domestic disturbance  call killed  19-year-old Quintonio LeGrier, an engineering student at Northern Illinois University, and bystander 55-year-old Betti Jones, a grandmother.Last week, 100 people, family and activists, held a vigil for the victims. The Mayor has attempted a sort of mea culpa this time, but the public is not buying it, mainly because this was the second major high-profile police shooting incident to rock city hall in the last month. TROUBLE IN HIS KEEP: The LaQuan McDonald shooting has rattled the  dynasty potential  of Chicago s Rahm Emanuel.Currently serving his second term in office, the 56-year-old mayor is going from one crisis to the next, as tensions continue to simmer after the initial controversy, the killing of 17-year-old Laquan McDonald who was shot 16 times by city police on camera   which prompted angry mobs demanding  The King  step down.There could be a political price to pay for all of this. Not only are #BlackLivesMatter on the rampage over these latest shooting events, but also LeGrier s mother, Janet Cooksey, appeared on national TV last Sunday at a news conference, wearing a T-shirt emblazoned with the face of Mayor Emanuel with the words  Rahm Failed Us. Throughout the debacle, Emmanuel has not given in to the public pressure, even though his approval rating has plummeted 20% since hostilities began. On top of this, Chicago has earned the reputation of  murder capital of America , despite the mayor s staunch liberal policy of  gun-free zones  across the city which some critics credit towards creating a criminal s paradise. The Mayor is already on shaky ground. Only last winter, Emanuel narrowly survived a close run-off election to keep his job in office.All of this has the potential to cast a shadow over Emanuel s political future, which is likely to include a Democratic Party presidential run in 2020. It s reported that Emanuel already has a substantial campaign war chest ready to go, billions of dollars in fact, thanks to some very wealthy backers. If Emanuel does go ahead with the 2020 plan, the driving force behind his campaign will be his Hollywood mogul brother, Ari Emanuel, who will spare no expense in terms of PR, marketing and advertising for his brother s political drive to the White House. Part of the newly found Emanuel family fortune derives from their early investment in the virtual taxi service sensation, Uber, with the Emanuel investment estimated to be valued over $1 billion alone. This is not without controversy however, as it was Mayor Rahm Emanuel s deregulation of Chicago s taxi industry that helped Uber shares to skyrocket in value. Critics are saying that there was a conflict of interest there, but in today s seedy political environment of insider trading and open criminality, it might be hard for any politician to pull rank over that issue. Add to this the potential hundreds of millions more in donations that Emanuel will receive from Jewish property tycoon Sheldon Adelson, and also from Jewish billionaire and Emanuel s fellow anti-gun advocate, Michael Bloomberg   and all in the interests of serving Israel, and you can see how Emanuel could be viewed as a 2020 Democratic front-runner already.The Mayor emerged on to the DC sewer scene as part of the Clinton-Obama Chicago political machine. He s been described by AFP s Victor Thorn as,  More sinister than Karl Rove and potentially deadlier than Dick  Darth Vader  Cheney . Back when Emanuel was Barack Obama s chief of staff in 2008, many commentators remarked on his psychopathic behavior, including his frightening Machiavellian exhibition in a White House meeting where he said the administration s political enemies need to,  Die, die, die! , as he stabbed the table in anger, reportedly using either a pen, or letter opener (regardless, that s a bit scary). Enough to scare the American people considering this is a man who most likely has his eyes on the White House. DUAL LOYALTIES: Rahm Emanuel might have a hard to time putting US interests ahead of Netanyahu s.The other strange bone of contention about Emanuel as a candidate is that he is reportedly a dual citizen (although its believed he gave up his Israeli citizenship at 19 years old) who shares a national identity between the United States and Israel, and actual served in the IDF briefly after college. According to Mondoweiss,  Emanuel left when the Gulf War broke out, in order to volunteer in the IDF. He served in one of Israel s northern bases until the war ended, and upon his return to the US became Clinton s advisor in the White House for almost eight years. Emanuel can often be seen in the presence of Israel leader and Zionist extremist, Bibi Netanyahu, which raises the real prospect of Tel Aviv finally having its very own US president embedded in the White House.The fundamental question here is: when it comes down to the crunch, which country s interest would Emanuel be more loyal towards, the US, or Israel. Contrary to popular Republican belief sets, you cannot wear allegiance to both, because no matter how hard the Israel Lobby tries to portray it   both countries have very radically different national and social interests.If this issue sinks any further down the cesspit of public outrage, expect Emanuel s Hollywood PR machine to go into overdrive.READ MORE ISRAEL NEWS AT: 21st Century Wire Israel Files',\n",
       "        'US_News', 'January 2, 2016']], shape=(38040, 4), dtype=object)"
      ]
     },
     "execution_count": 9,
     "metadata": {},
     "output_type": "execute_result"
    }
   ],
   "execution_count": 9
  },
  {
   "metadata": {
    "ExecuteTime": {
     "end_time": "2025-04-28T01:11:26.596378Z",
     "start_time": "2025-04-28T01:11:26.589577Z"
    }
   },
   "cell_type": "code",
   "source": [
    "X_train, X_test, y_train, y_test = tts(data.X,\n",
    "                                       data.y,\n",
    "                                       train_size = .25,\n",
    "                                       test_size = .25,\n",
    "                                       random_state = 42)"
   ],
   "id": "e4fa075e8f4e2779",
   "outputs": [],
   "execution_count": 10
  },
  {
   "metadata": {
    "ExecuteTime": {
     "end_time": "2025-04-28T01:11:26.661465Z",
     "start_time": "2025-04-28T01:11:26.652410Z"
    }
   },
   "cell_type": "code",
   "source": [
    "X_train50, X_test50, y_train50, y_test50 = tts(data.X,\n",
    "                                               data.y,\n",
    "                                               train_size = .5,\n",
    "                                               test_size = .5,\n",
    "                                               random_state = 42)"
   ],
   "id": "eeb288fbf816936d",
   "outputs": [],
   "execution_count": 11
  },
  {
   "metadata": {
    "ExecuteTime": {
     "end_time": "2025-04-28T01:11:26.808466Z",
     "start_time": "2025-04-28T01:11:26.796817Z"
    }
   },
   "cell_type": "code",
   "source": "X_train",
   "id": "92adf2f43c970e35",
   "outputs": [
    {
     "data": {
      "text/plain": [
       "array([['Italy rescues more than 250 migrants in Mediterranean',\n",
       "        'ROME (Reuters) - More than 250 migrants were rescued in the central Mediterranean during the night between Monday and Tuesday, Italy s Coast Guard said. A statement said the migrants, in one large rubber dinghy and two small boats, were rescued in three missions by two ships, one from a non-governmental organization. Migrant arrivals to Italy have fallen by two-thirds year on year since July after officials working for the U.N.-backed government in Tripoli put pressure on people smugglers in the Libyan city of Sabratha to stop boats leaving. Italy is also bolstering the Libyan coast guard s ability to turn back boats. Last week, the United Nations began bringing African refugees to Italy from Libya, evacuating them from detention centers whose conditions have been condemned by rights groups as inhumane.  ',\n",
       "        'worldnews', 'December 26, 2017 '],\n",
       "       ['RACIST RANT From Supreme Court Justice Exposes Slanted Personal Opinion On Law Enforcement',\n",
       "        'Supreme Court Justic Sotomayor went on a racist rant about how law enforcement has targeted minorities and put fear in  black and brown  people: It is no secret that people of color are disproportionate victims of this type of scrutiny. She s weighed in before in a racist manner:   I would hope that a wise Latina woman with the richness of her experiences would more often than not reach a better conclusion than a white male who hasn t lived that life    Supreme Court Justice SotomayorSotomayor once again brings her racist view to the court clouding her decisions on ALL Americans:Supreme Court Justice Sonia Sotomayor on Monday issued a vehement dissent in a Fourth Amendment case   writing that the majority s opinion sanctions police stops that  corrode all our civil liberties and threaten all our lives. The fiery objection came on case where a Utah man challenged his arrest based on a stop that was later found to be unlawful. The 5-3 majority opinion, Sotomayor wrote, will have dramatic ramifications for law-abiding citizens targeted by police, especially minorities.  It is no secret that people of color are disproportionate victims of this type of scrutiny,  she wrote.  For generations, black and brown parents have given their children  the talk    instructing them never to run down the street; always keep your hands where they can be seen; do not even think of talking back to a stranger   all out of fear of how an officer with a gun will react to them.  By legitimizing the conduct that produces this double consciousness, this case tells everyone, white and black, guilty and innocent, that an officer can verify your legal status at any time,  she added.  It says that your body is subject to invasion while courts excuse the violation of your rights. It implies that you are not a citizen of a democracy but the subject of a carceral state, just waiting to be cataloged. With four major decisions due in the next week, including cases on affirmative action, abortion and immigration, Sotomayor s anger signals that what has been a quiet term since the death of Justice Antonin Scalia could get increasingly contentious. Whether born from experience or inherent physiological or cultural differences,  she said, for jurists who are women and nonwhite,  our gender and national origins may and will make a difference in our judging. Via: CNN',\n",
       "        'politics', 'Jun 21, 2016'],\n",
       "       ['EPIC! COMMIE OBAMA PICTURED With Vietnam President In Front Of This!',\n",
       "        'Wow! What a commie putz! After lifting the arms restrictions on Vietnam, Obama gleefully gets a photo right in front of the bust of Ho Chi Minh. That s some rich symbolism right there!',\n",
       "        'politics', 'May 23, 2016'],\n",
       "       ...,\n",
       "       ['Pennsylvania mayors charged in pay-to-play corruption case',\n",
       "        'PHILADELPHIA (Reuters) - The mayor of Allentown, the third largest city in Pennsylvania, is among the latest officials charged in a long-running federal corruption investigation, according to indictments unsealed on Wednesday. Edwin Pawlowski, a Democrat who is running for a fourth term, was one of five people accused of bribery, extortion, wire fraud and other charges in two indictments that included a total of 73 counts. Seven others have already pleaded guilty in the probe. Wednesday’s new defendants include Vaughn Spencer, 70, a Democrat who previously served as the first black mayor of Reading, Pennsylvania. “Pawlowski and Spencer essentially put a ‘for sale’ sign on City Hall and sold out to the highest bidder,” said Louis Lappen, the acting U.S. attorney in Philadelphia, at a news conference on Wednesday. At his own news conference, Pawlowski called that accusation “fiction” and vowed to keep running for reelection. “I want to make it clear to everyone: I have done nothing wrong, nor have I ever accepted a dime beyond my salary,” he said. “In no way, shape or form was City Hall ever up for sale.” Pawlowski, who has also run unsuccessfully for governor and U.S. Senate, is accused of accepting more than $150,000 in contributions to his various campaigns from vendors with the understanding they would receive city contracts in exchange. The mayor sought to cover up the scheme by deleting emails, instructing his campaign aides to do the same and sweeping his office for listening devices installed by law enforcement, the indictment said. Spencer, meanwhile, was charged with a similar scheme in which he allegedly directed a contract to a donor’s engineering firm. He is also accused of agreeing to bribe the city council president in exchange for repealing campaign finance limits.  A lawyer for Spencer, Geoffrey Johnson, said he “intends to vigorously defend against these charges” but declined to comment further, saying he was still reviewing the indictment. The separate schemes outlined in the two indictments included some of the same players. James Hickey, a business consultant, was named in both indictments, while Michael Fleck, who previously pleaded guilty, served as campaign manager for both mayors. A lawyer for Hickey did not immediately respond to a request for comment. Charges against Pawlowski had been expected. Earlier this year, Allentown’s former managing director pleaded guilty as part of the investigation and implicated Pawlowski in a $3 million bid-rigging scheme to benefit a campaign donor. ',\n",
       "        'politicsNews', 'July 26, 2017 '],\n",
       "       ['Congress split over privatizing air traffic control',\n",
       "        'WASHINGTON (Reuters) - The U.S. Congress is divided over whether to privatize the nation’s air traffic control system as both chambers advance bills to expand airline passenger protections. On Thursday, the Senate Commerce, Science and Transportation Committee adopted legislation that includes Federal Aviation Administration reforms, but unlike a House panel, does not spin off air traffic control and leaves it with the FAA. “The support is not there,” said Senator Bill Nelson, the top Democrat on the panel. The U.S. House Transportation and Infrastructure Committee approved the privatization plan on Tuesday, putting air traffic control under the oversight of a nonprofit corporation. President Donald Trump has said the move would modernize air traffic control and lower flying costs. The proposal has drawn fire from private plane owners and rural airports. Critics say it would hand control of a key asset to special interests and big airlines. American Airlines Group Inc, United Airlines, Southwest Airlines Co and JetBlue Airways Corp all back the proposal. Congress has until Sept. 30 to reauthorize the FAA, but Republican Senator John Thune, chairman of the committee, said the Senate may not take up the proposal until after the August recess, potentially leaving little time to come up with a compromise measure.  The Senate bill would require new rules prohibiting cancellation, baggage, seat selection and same day change fees that are not “reasonable and proportional.” Airlines for America, an airline trade group, said it would result in “government-mandated price controls” and should be rejected. In 2016, U.S. airlines collected $7.1 billion in baggage and reservation change fees. Both measures would make it illegal for an airline to bump an already boarded passenger from a flight. In April, a United passenger was forcibly removed from his seat, prompting public outrage. The airline has since banned the practice. The Senate bill also requires new rules that would mandate  airlines promptly refund passengers for baggage fees or other fees if they do not receive services. The House bill would require the FAA to set minimum seat sizes on U.S. airlines and a minimum distance between rows to “protect the safety and health of airline passengers.” The average distance between rows of seats has dropped from 35 inches in the 1970s to about 31 inches today, supporters say, and the average width of airline seats has shrunk from 18 inches to about 16-1/2 inches. One contentious issue is training requirements for pilots, and whether certain simulated training hours can be counted. Thune said that two-thirds of U.S. airports are only served by regional carriers and that there is a “crisis” in trying to attract pilots, while Democrats said the revised rules could lead to unqualified pilots. Both bills would seek to speed approval of some commercial drone use and testing, while studying privacy implications. The measures also require medium- and large-sized airports to provide clean private rooms in all terminals for nursing mothers and would enshrine a ban on making in-flight mobile phone calls in law. The Senate bill would direct a study of airplane air quality and require a study of whether airlines are shrinking airplane bathrooms to add more seats. ',\n",
       "        'politicsNews', 'June 29, 2017 '],\n",
       "       ['State Workers GIVEN THE DAY OFF And Paid To Be Seat Fillers At Gore/Cuomo Climate Change Event',\n",
       "        'Using state employees to fill a room for political purposes is called  astroturfing . Cuomo wanted it to look like people were actually interested in the global warming scam and an appearance by grifter Al Gore. Taxpayer dollars are the REAL issue here! Cuomo thought nothing of wasting taxpayer dollars to give the state employees the day off so they d fill a room ridiculous! Gov. Cuomo wasn t taking any chances that there might be empty seats at a speech he delivered last week on climate change   so state workers were summoned on the taxpayer dime to fill the audience, The Post has learned.The workers said they left their jobs in the middle of the day Thursday and were paid their full salaries to hear Cuomo at Columbia University announce the state was joining a global effort to reduce greenhouse-gas emissions.  I d rather be at the park,  said one of the workers, who is employed by the state s Office of Parks, Recreation and Historic Preservation and who has no connection to climate issues. He explained that he went because his boss  asked me to make some time available in my schedule.  The worker confessed that he didn t know what the event was about before he agreed to go. He said attendance is not required, but is viewed favorably, and that the practice is common throughout state government to support Cuomo.  They often ask,  he said, referring to supervisors.  We get e-mails, and they ll ask us if we want to go.  The worker said he would not have volunteered if he were not getting paid his regular salary.  It better be on the clock,  he said. The 2:30 p.m. event, which lasted about an hour and included speeches from former Vice President Al Gore as well as Columbia s President Lee Bollinger, focused on Cuomo s plan to have state agencies work with other states and cities worldwide to reduce carbon emissions. A state Department of Health worker told The Post that supervisors offered employees the  option of attending the event  instead of working.  If they watched Cuomo, they could go home afterward instead of returning to work, the employee said. He called the practice  AstroTurfing    an attempt to fabricate grass-roots support.  Public employees take an oath that they won t use their position for their personal advantage,  the employee said.  How can you expect any state workers to take it seriously when the boss isn t leading by example?  Good-government advocates questioned why state workers were being paid to attend an event designed to bolster an elected official s credentials.  It s a questionable use of state resources,  said Dick Dadey, executive director of Citizens Union.Read more: NYP',\n",
       "        'Government News', 'Oct 14, 2015']], shape=(9510, 4), dtype=object)"
      ]
     },
     "execution_count": 12,
     "metadata": {},
     "output_type": "execute_result"
    }
   ],
   "execution_count": 12
  },
  {
   "metadata": {
    "ExecuteTime": {
     "end_time": "2025-04-28T01:11:26.980331Z",
     "start_time": "2025-04-28T01:11:26.977868Z"
    }
   },
   "cell_type": "code",
   "source": "#X_train = pp.fit_transform(X_train)",
   "id": "531695fef81ec406",
   "outputs": [],
   "execution_count": 13
  },
  {
   "metadata": {
    "ExecuteTime": {
     "end_time": "2025-04-28T01:11:27.180875Z",
     "start_time": "2025-04-28T01:11:27.174059Z"
    }
   },
   "cell_type": "code",
   "source": [
    "\n",
    "#X_train50 = pp.fit_transform(X_train50)\n"
   ],
   "id": "ebe0432ddeeb1196",
   "outputs": [],
   "execution_count": 14
  },
  {
   "metadata": {
    "ExecuteTime": {
     "end_time": "2025-04-28T01:11:27.282454Z",
     "start_time": "2025-04-28T01:11:27.265902Z"
    }
   },
   "cell_type": "code",
   "source": "X_train50",
   "id": "b8ae2486b1519132",
   "outputs": [
    {
     "data": {
      "text/plain": [
       "array([['BERNIE SANDERS’ ECONOMIC POLICY Explained In One BRUTAL Meme',\n",
       "        'This is the economic policy that s bringing throngs of college-age young adults to rally for Bernie Sanders.It s a sad but true commentary on the generation of  adults  who will be leading our nation in the years to come. Note to college students, this is what mature bill-paying adults call  B.S. economics. ',\n",
       "        'left-news', 'Feb 3, 2016'],\n",
       "       [' Elizabeth Warren BURIES Trump After He Throws Temper Tantrum Over Her Attacks',\n",
       "        'Donald Trump and Elizabeth Warren are engaged in a Twitter feud for the ages and she s kicking his ass.On Saturday, the Massachusetts Senator ripped the Republican nominee to shreds for picking Indiana Governor Mike Pence as his running mate on the 2016 ticket..@realDonaldTrump & @mike_pence are a perfect match: Two small, insecure, weak men who use hate & fear to divide our country & our people.  Elizabeth Warren (@elizabethforma) July 16, 2016 Of COURSE @realDonaldTrump   a guy who calls women fat pigs & bimbos   picked a VP who is famous for trying to control women s bodies.  Elizabeth Warren (@elizabethforma) July 16, 2016What s worse? @realDonaldTrump & @mike_pence s sexism isn t some radical fringe of the @GOP. They re in line with the party platform.  Elizabeth Warren (@elizabethforma) July 16, 2016 And OF COURSE @realDonaldTrump   a guy who  [doesn t] feel good  about marriage equality   picked a VP famous for LGBT discrimination.  Elizabeth Warren (@elizabethforma) July 16, 2016Terrifying to think of @mike_pence being a heartbeat from presidency   but the direction @GOP wants to take our country is MORE terrifying.  Elizabeth Warren (@elizabethforma) July 16, 2016In response, Donald Trump threw a temper tantrum which, of course, included another instance of referring to Warren as  Pocahontas  and  goofy.  Trump also called her lazy and a  fraud,  and suggested she didn t earn her Senate seat with hard work. Goofy Elizabeth Warren, who may be the least productive Senator in the U.S. Senate, must prove she is not a fraud. Without the con it s over  Donald J. Trump (@realDonaldTrump) July 17, 2016I hope that Crooked Hillary picks Goofy Elizabeth Warren, sometimes referred to as Pocahontas, as her V.P. Then we can litigate her fraud!  Donald J. Trump (@realDonaldTrump) July 17, 2016 If Goofy Elizabeth Warren, a very weak Senator, didn t lie about her heritage (being Native American) she would be nothing today. Pick her H  Donald J. Trump (@realDonaldTrump) July 17, 2016Well, Warren wasn t going to let Trump get away with any of that bullshit, and she launched a barrage of tweets leveling Trump into a pile of rubble.Nasty name-calling & lies about my family aren t going to shut me up, @realDonaldTrump. Is that really all you ve got?  Elizabeth Warren (@elizabethforma) July 17, 2016 Pres Reagan s Solicitor General was the Harvard prof who hired me, @realDonaldTrump. He says your right-wing conspiracy theories are a lie.  Elizabeth Warren (@elizabethforma) July 17, 2016It might blow your mind that a woman worked hard & earned a good job on her own, @realDonaldTrump, but it s not the 1800s. It happens.  Elizabeth Warren (@elizabethforma) July 17, 2016 You want to talk about who s a fraud, @realDonaldTrump? How about this? https://t.co/5UB05u8L4x pic.twitter.com/sTQrNKOoA1  Elizabeth Warren (@elizabethforma) July 17, 2016Or this, @realDonaldTrump? https://t.co/HPPihIjqpX pic.twitter.com/dbhtFbhYF0  Elizabeth Warren (@elizabethforma) July 17, 2016 Or this, @realDonaldTrump? https://t.co/Ji9khMUbw6 pic.twitter.com/buEtsLMjfn  Elizabeth Warren (@elizabethforma) July 17, 2016Or this, @realDonaldTrump? https://t.co/14GnqNtCsb pic.twitter.com/uwEWno8iJ3  Elizabeth Warren (@elizabethforma) July 17, 2016 Or this, @realDonaldTrump? https://t.co/3ernRrO7q3 pic.twitter.com/wld65MAdsj  Elizabeth Warren (@elizabethforma) July 17, 2016Or this, @realDonaldTrump? https://t.co/JHTsnbtufR pic.twitter.com/8A3LLFWI8q  Elizabeth Warren (@elizabethforma) July 17, 2016 Or this, @realDonaldTrump? https://t.co/1DiL7W69BH pic.twitter.com/EzcR5NYnmM  Elizabeth Warren (@elizabethforma) July 17, 2016Seriously, I could do this all day, @realDonaldTrump  https://t.co/Q6Tv3m1SdX pic.twitter.com/Me3CULGxTI  Elizabeth Warren (@elizabethforma) July 17, 2016 You re nothing but a thin-skinned bully and a lousy, cheating businessman, @realDonaldTrump. The sham is over.  Elizabeth Warren (@elizabethforma) July 17, 2016Donald Trump really should stop picking on Elizabeth Warren, because unlike the Republican leadership, she can t be bullied and has no problem burying him for his bullshit.Featured image via Drew Angerer/Getty Images',\n",
       "        'News', 'July 17, 2016'],\n",
       "       ['Embattled Pennsylvania attorney general survives Senate removal vote',\n",
       "        'HARRISBURG, Pa. (Reuters) - Republican state senators in Pennsylvania failed to muster enough votes on Wednesday to oust Attorney General Kathleen Kane, who is facing criminal charges for allegedly leaking secret grand jury material. All but one of the Senate’s 30 Republicans voted to remove Kane, a Democrat, from office because her law license has been suspended, falling four votes short of the two-thirds majority required. The chamber’s 18 Democrats, as well as one Republican, opposed the move. “It is simply not appropriate to take this action,” said Senator Judy Schwank, a Democrat who served on the committee that examined Kane’s removal. “It is an outrage against voters’ right to choose their elected officials.” Kane has been in legal hot water ever since her indictment last summer for allegedly passing grand jury information to a reporter as part of a personal feud. The Pennsylvania Supreme\\xa0Court suspended her law license last fall. Wednesday’s debate in the Senate focused on whether Kane could continue to function as attorney\\xa0general without a license to practice law. Unlike impeachment, which targets officeholders who have committed crimes and requires action by both legislative chambers, removal is aimed at incompetent but law-abiding officials and requires only\\xa0Senate action. The process had not been used since 1891. “When you have a suspended law license, you cannot do anything!” said Senator John Gordner, the Republican who chaired the removal committee, during Wednesday’s three-hour debate. But others, notably Democratic former Governor Edward Rendell, who served eight years as district attorney of Philadelphia, previously testified at hearings that a license was not essential. Rendell said that in a large district attorney office, the job is mainly about making managerial decisions, not practicing law. Kane has claimed her indictment was brought in response to her efforts to release thousands of explicit or offensive e-mails circulated by former prosecutors in her office, including those who prosecuted Penn State sexual predator Jerry Sandusky, and two members of the state Supreme Court, among others. “Today is a good day for all those who share my desire to restore confidence in our judges and prosecutors and integrity to our system of justice,” Kane said in a statement after the vote. She could still face removal efforts. The state House of Representatives voted separately on Wednesday to begin an impeachment inquiry, while Senate Republicans used a procedural maneuver that allows them to call for another removal vote if circumstances change. ',\n",
       "        'politicsNews', 'February 10, 2016 '],\n",
       "       ...,\n",
       "       [\"Peru's president pardons ex-leader Fujimori, citing his health\",\n",
       "        'LIMA (Reuters) - Peruvian President Pedro Pablo Kuczynski pardoned former authoritarian leader Alberto Fujimori late on Sunday, clearing him of convictions for human rights crimes and graft before completion of a 25-year prison sentence. Kuczynski s office said in a statement that a medical review showed that Fujimori, 79, who governed Peru from 1990 to 2000, suffered from  a progressive, degenerative and incurable disease.   The pardon comes just days after a faction of Fujimori s supporters in the opposition-controlled Congress saved Kuczynski from a motion that would have forced him from office in the wake of a graft scandal. [nL1N1OL160] ',\n",
       "        'worldnews', 'December 25, 2017 '],\n",
       "       ['Factbox: Belgian mother of two, young New Yorker among victims of truck attack',\n",
       "        '(Reuters) - A New Jersey man who worked at the World Trade Center, a young New Yorker, a Belgian mother of two, and five Argentines celebrating their high school graduation 30 years ago were killed in the truck attack on a New York City bike path. Twelve other people were injured in Tuesday’s attack in lower Manhattan by an Uzbek immigrant who allegedly drove the truck onto the path along the Hudson River. It was the deadliest attack in the city since Sept. 11, 2001.  U.S. and foreign officials identified the dead as: - Darren Drake, 32, of New Milford, New Jersey. His father, James Drake, told local news media, that his son was a project manager at Moody’s Investors Service at the World Trade Center, near the scene of the rampage.   - Nicholas Cleves, 23, of New York City. Cleves was a software engineer who lived in a West Village apartment within biking distance of the Hudson, according to a friend who spoke with multiple news media outlets.  Cleves attended Little Red School House and Elisabeth Irwin High School, known collectively as LREI, from kindergarten through 12th grade. He graduated from the private Manhattan school in 2012 and in recent years worked on its technology staff part-time, the school’s director, Phil Kassen, wrote on its alumni page on Facebook.  “Nicholas was kind, caring, curious, interested, and a great friend,” Kassen wrote. “He always had a kind word when you would pass him in the hall, and the biggest smile, and always offered to help, no matter the situation.” - Anne Laure Decadt, 31, of Staden, Belgium. Decadt was visiting New York with her two sisters and mother. She was cycling on the bike path when the truck hit her from behind, CNN affiliate VTM reported. Her mother and sisters were not hurt.  Decadt “was a fantastic wife and the most beautiful mom to our two sons of 3 months and 3 years old. This loss is unbearable and difficult to understand,” her husband, Alexander Naessens, said in an interview with local Belgium news media.  - The five Argentine men were all from the city of Rosario. Their journey to New York had been organized by Ariel Erlij, whose company, Ivanar SA, distributes steel products. The businessman had helped pay for two of his friends to go on the trip.  The five men were:  - Erlij, 48 - Hernán Diego Mendoza, 48 - Diego Enrique Angelini, 48 - Alejandro Damián Pagnucco, 49 - Hernán Ferruchi, 48 ',\n",
       "        'politicsNews', 'November 1, 2017 '],\n",
       "       ['Protesters storm Kurdistan parliament after Barzani announces resignation',\n",
       "        'BAGHDAD (Reuters) - Demonstrators, some carrying clubs, stormed the Iraqi Kurdistan parliament building in Erbil on Sunday, angry at the decision of Masoud Barzani to step down from the presidency of the region, witnesses said. Gunshots were heard as protesters who claimed they were  Peshmerga  Kurdish fighters forced their way inside the building, they said. ',\n",
       "        'worldnews', 'October 29, 2017 ']], shape=(19020, 4), dtype=object)"
      ]
     },
     "execution_count": 15,
     "metadata": {},
     "output_type": "execute_result"
    }
   ],
   "execution_count": 15
  },
  {
   "metadata": {
    "ExecuteTime": {
     "end_time": "2025-04-28T01:11:27.440117Z",
     "start_time": "2025-04-28T01:11:27.435644Z"
    }
   },
   "cell_type": "code",
   "source": "param_grids = {key: {} for key in pipelines.keys()}",
   "id": "5a54a0b8c520834d",
   "outputs": [],
   "execution_count": 16
  },
  {
   "metadata": {
    "ExecuteTime": {
     "end_time": "2025-04-28T01:11:27.608949Z",
     "start_time": "2025-04-28T01:11:27.604501Z"
    }
   },
   "cell_type": "code",
   "source": "gcvs = {key: None for key in pipelines.keys()}",
   "id": "9a88df8ebd8f9760",
   "outputs": [],
   "execution_count": 17
  },
  {
   "metadata": {
    "ExecuteTime": {
     "end_time": "2025-04-28T01:11:27.729407Z",
     "start_time": "2025-04-28T01:11:27.714717Z"
    }
   },
   "cell_type": "code",
   "source": [
    "param_grids['svc'] = {}\n",
    "param_grids['svc']['vectorizing__title__max_features'] = [150, 175, 200]\n",
    "param_grids['svc']['vectorizing__text__max_features'] = [125, 150, 175]\n",
    "param_grids['svc']['vectorizing__title__ngram_range'] = [(1,1),(1,2), (1,3)]#[(1,3),(1, 2), (1,1)]\n",
    "param_grids['svc']['vectorizing__text__ngram_range'] = [(1,1), (1,2), (1,3)]#[(1,1),(1, 2), (1,3)]\n",
    "param_grids['svc']['vectorizing__text__min_df'] = [1]#[1,2,3]#[2,3,4]\n",
    "param_grids['svc']['vectorizing__title__min_df'] = [1]#[1,2,3]#[2,3,4]\n",
    "param_grids['svc']['vectorizing__title__max_df'] =[.99]#[.99, .95]\n",
    "param_grids['svc']['vectorizing__text__max_df'] = [.99]#[.99, .95]\n",
    "param_grids['svc']['svc__kernel'] = ['linear']#['linear', 'rbf']\n",
    "param_grids['svc']['svc__C'] = [4,5,6,7]#[5,6,7]"
   ],
   "id": "c452d89ff8a2e64",
   "outputs": [],
   "execution_count": 18
  },
  {
   "metadata": {
    "jupyter": {
     "is_executing": true
    },
    "ExecuteTime": {
     "start_time": "2025-04-28T01:11:27.809138Z"
    }
   },
   "cell_type": "code",
   "source": [
    "\n",
    "gcvs['svc'] = GridSearchCV(pipelines['svc'],\n",
    "                           param_grid=param_grids['svc'],\n",
    "                           cv = 3, n_jobs = -1,\n",
    "                           verbose = 100).fit(X_train50, y_train50)"
   ],
   "id": "d7988f7ae5e5520a",
   "outputs": [
    {
     "name": "stdout",
     "output_type": "stream",
     "text": [
      "Fitting 3 folds for each of 324 candidates, totalling 972 fits\n"
     ]
    }
   ],
   "execution_count": null
  },
  {
   "metadata": {
    "ExecuteTime": {
     "end_time": "2025-04-27T23:52:57.760858Z",
     "start_time": "2025-04-27T23:52:57.755613Z"
    }
   },
   "cell_type": "code",
   "source": "gcvs['svc'].best_score_",
   "id": "8aec66da0174c8be",
   "outputs": [
    {
     "data": {
      "text/plain": [
       "np.float64(0.9928496319663512)"
      ]
     },
     "execution_count": 1017,
     "metadata": {},
     "output_type": "execute_result"
    }
   ],
   "execution_count": 1017
  },
  {
   "metadata": {
    "ExecuteTime": {
     "end_time": "2025-04-27T23:53:02.252788Z",
     "start_time": "2025-04-27T23:52:57.768834Z"
    }
   },
   "cell_type": "code",
   "source": "gcvs['svc'].score(X_test50, y_test50)",
   "id": "13cee50659488874",
   "outputs": [
    {
     "data": {
      "text/plain": [
       "0.9913774973711882"
      ]
     },
     "execution_count": 1018,
     "metadata": {},
     "output_type": "execute_result"
    }
   ],
   "execution_count": 1018
  },
  {
   "metadata": {
    "ExecuteTime": {
     "end_time": "2025-04-27T23:53:02.419329Z",
     "start_time": "2025-04-27T23:53:02.412056Z"
    }
   },
   "cell_type": "code",
   "source": "gcvs['svc'].best_params_",
   "id": "7f04147679a60f2e",
   "outputs": [
    {
     "data": {
      "text/plain": [
       "{'svc__C': 6,\n",
       " 'svc__kernel': 'linear',\n",
       " 'vectorizing__text__max_df': 0.99,\n",
       " 'vectorizing__text__max_features': 175,\n",
       " 'vectorizing__text__min_df': 1,\n",
       " 'vectorizing__text__ngram_range': (1, 1),\n",
       " 'vectorizing__title__max_df': 0.99,\n",
       " 'vectorizing__title__max_features': 200,\n",
       " 'vectorizing__title__min_df': 1,\n",
       " 'vectorizing__title__ngram_range': (1, 1)}"
      ]
     },
     "execution_count": 1019,
     "metadata": {},
     "output_type": "execute_result"
    }
   ],
   "execution_count": 1019
  },
  {
   "metadata": {
    "ExecuteTime": {
     "end_time": "2025-04-27T23:53:02.675625Z",
     "start_time": "2025-04-27T23:53:02.569216Z"
    }
   },
   "cell_type": "code",
   "source": [
    "df = pd.DataFrame(gcvs['svc'].cv_results_)\n",
    "sns.scatterplot(x='rank_test_score', y='mean_test_score', data=df)"
   ],
   "id": "a012ba37470226d1",
   "outputs": [
    {
     "data": {
      "text/plain": [
       "<Axes: xlabel='rank_test_score', ylabel='mean_test_score'>"
      ]
     },
     "execution_count": 1020,
     "metadata": {},
     "output_type": "execute_result"
    },
    {
     "data": {
      "text/plain": [
       "<Figure size 640x480 with 1 Axes>"
      ],
      "image/png": "[encoded data removed]"
     },
     "metadata": {},
     "output_type": "display_data"
    }
   ],
   "execution_count": 1020
  },
  {
   "metadata": {
    "ExecuteTime": {
     "end_time": "2025-04-28T01:09:50.092723Z",
     "start_time": "2025-04-28T01:09:50.086826Z"
    }
   },
   "cell_type": "code",
   "source": [
    "\n",
    "param_grids['svc_nmf'] = {}\n",
    "param_grids['svc_nmf']['vectorizing__title__max_features'] = [150,175, 200]\n",
    "param_grids['svc_nmf']['vectorizing__text__max_features'] = [125, 150, 175]\n",
    "param_grids['svc_nmf']['vectorizing__title__ngram_range'] = [(1,2), (1,1), (1,3)]#[(1,3),(1, 2), (1,1)]\n",
    "param_grids['svc_nmf']['vectorizing__text__ngram_range'] = [(1,1), (1,2), (1,3)]#[(1,1),(1, 2), (1,3)]\n",
    "param_grids['svc_nmf']['vectorizing__text__min_df'] = [1]#[1,2,3]#[2,3,4]\n",
    "param_grids['svc_nmf']['vectorizing__title__min_df'] = [1]#[1,2,3]#[2,3,4]\n",
    "param_grids['svc_nmf']['vectorizing__title__max_df'] =[.99]#[.99, .95]\n",
    "param_grids['svc_nmf']['vectorizing__text__max_df'] = [.99]#[.99, .95]\n",
    "param_grids['svc_nmf']['nmf__n_components'] = [None]#[None,80,160,200]\n",
    "param_grids['svc_nmf']['svc__kernel'] = ['linear']#['linear', 'rbf']\n",
    "param_grids['svc_nmf']['svc__C'] = [5, 6, 7, 8]#[5,6,7]\n",
    "\n"
   ],
   "id": "9342e2168b5b9d6c",
   "outputs": [],
   "execution_count": 25
  },
  {
   "metadata": {
    "ExecuteTime": {
     "end_time": "2025-04-28T01:09:55.548799Z",
     "start_time": "2025-04-28T01:09:50.667070Z"
    }
   },
   "cell_type": "code",
   "source": [
    "\n",
    "\n",
    "gcvs['svc_nmf'] = GridSearchCV(pipelines['svc_nmf'],\n",
    "                           param_grid=param_grids['svc_nmf'],\n",
    "                           cv = 3, n_jobs = -1,\n",
    "                           verbose = 100).fit(X_train50, y_train50)\n"
   ],
   "id": "805211180f24b06f",
   "outputs": [
    {
     "name": "stdout",
     "output_type": "stream",
     "text": [
      "Fitting 3 folds for each of 324 candidates, totalling 972 fits\n"
     ]
    },
    {
     "ename": "KeyboardInterrupt",
     "evalue": "",
     "output_type": "error",
     "traceback": [
      "\u001B[31m---------------------------------------------------------------------------\u001B[39m",
      "\u001B[31mKeyboardInterrupt\u001B[39m                         Traceback (most recent call last)",
      "\u001B[36mCell\u001B[39m\u001B[36m \u001B[39m\u001B[32mIn[26]\u001B[39m\u001B[32m, line 4\u001B[39m\n\u001B[32m      1\u001B[39m gcvs[\u001B[33m'\u001B[39m\u001B[33msvc_nmf\u001B[39m\u001B[33m'\u001B[39m] = GridSearchCV(pipelines[\u001B[33m'\u001B[39m\u001B[33msvc_nmf\u001B[39m\u001B[33m'\u001B[39m],\n\u001B[32m      2\u001B[39m                            param_grid=param_grids[\u001B[33m'\u001B[39m\u001B[33msvc_nmf\u001B[39m\u001B[33m'\u001B[39m],\n\u001B[32m      3\u001B[39m                            cv = \u001B[32m3\u001B[39m, n_jobs = -\u001B[32m1\u001B[39m,\n\u001B[32m----> \u001B[39m\u001B[32m4\u001B[39m                            verbose = \u001B[32m100\u001B[39m).fit(X_train50, y_train50)\n",
      "\u001B[36mFile \u001B[39m\u001B[32m~\\anaconda3\\envs\\DS\\Lib\\site-packages\\sklearn\\base.py:1389\u001B[39m, in \u001B[36m_fit_context.<locals>.decorator.<locals>.wrapper\u001B[39m\u001B[34m(estimator, *args, **kwargs)\u001B[39m\n\u001B[32m   1382\u001B[39m     estimator._validate_params()\n\u001B[32m   1384\u001B[39m \u001B[38;5;28;01mwith\u001B[39;00m config_context(\n\u001B[32m   1385\u001B[39m     skip_parameter_validation=(\n\u001B[32m   1386\u001B[39m         prefer_skip_nested_validation \u001B[38;5;129;01mor\u001B[39;00m global_skip_validation\n\u001B[32m   1387\u001B[39m     )\n\u001B[32m   1388\u001B[39m ):\n\u001B[32m-> \u001B[39m\u001B[32m1389\u001B[39m     \u001B[38;5;28;01mreturn\u001B[39;00m fit_method(estimator, *args, **kwargs)\n",
      "\u001B[36mFile \u001B[39m\u001B[32m~\\anaconda3\\envs\\DS\\Lib\\site-packages\\sklearn\\model_selection\\_search.py:1024\u001B[39m, in \u001B[36mBaseSearchCV.fit\u001B[39m\u001B[34m(self, X, y, **params)\u001B[39m\n\u001B[32m   1018\u001B[39m     results = \u001B[38;5;28mself\u001B[39m._format_results(\n\u001B[32m   1019\u001B[39m         all_candidate_params, n_splits, all_out, all_more_results\n\u001B[32m   1020\u001B[39m     )\n\u001B[32m   1022\u001B[39m     \u001B[38;5;28;01mreturn\u001B[39;00m results\n\u001B[32m-> \u001B[39m\u001B[32m1024\u001B[39m \u001B[38;5;28mself\u001B[39m._run_search(evaluate_candidates)\n\u001B[32m   1026\u001B[39m \u001B[38;5;66;03m# multimetric is determined here because in the case of a callable\u001B[39;00m\n\u001B[32m   1027\u001B[39m \u001B[38;5;66;03m# self.scoring the return type is only known after calling\u001B[39;00m\n\u001B[32m   1028\u001B[39m first_test_score = all_out[\u001B[32m0\u001B[39m][\u001B[33m\"\u001B[39m\u001B[33mtest_scores\u001B[39m\u001B[33m\"\u001B[39m]\n",
      "\u001B[36mFile \u001B[39m\u001B[32m~\\anaconda3\\envs\\DS\\Lib\\site-packages\\sklearn\\model_selection\\_search.py:1571\u001B[39m, in \u001B[36mGridSearchCV._run_search\u001B[39m\u001B[34m(self, evaluate_candidates)\u001B[39m\n\u001B[32m   1569\u001B[39m \u001B[38;5;28;01mdef\u001B[39;00m\u001B[38;5;250m \u001B[39m\u001B[34m_run_search\u001B[39m(\u001B[38;5;28mself\u001B[39m, evaluate_candidates):\n\u001B[32m   1570\u001B[39m \u001B[38;5;250m    \u001B[39m\u001B[33;03m\"\"\"Search all candidates in param_grid\"\"\"\u001B[39;00m\n\u001B[32m-> \u001B[39m\u001B[32m1571\u001B[39m     evaluate_candidates(ParameterGrid(\u001B[38;5;28mself\u001B[39m.param_grid))\n",
      "\u001B[36mFile \u001B[39m\u001B[32m~\\anaconda3\\envs\\DS\\Lib\\site-packages\\sklearn\\model_selection\\_search.py:970\u001B[39m, in \u001B[36mBaseSearchCV.fit.<locals>.evaluate_candidates\u001B[39m\u001B[34m(candidate_params, cv, more_results)\u001B[39m\n\u001B[32m    962\u001B[39m \u001B[38;5;28;01mif\u001B[39;00m \u001B[38;5;28mself\u001B[39m.verbose > \u001B[32m0\u001B[39m:\n\u001B[32m    963\u001B[39m     \u001B[38;5;28mprint\u001B[39m(\n\u001B[32m    964\u001B[39m         \u001B[33m\"\u001B[39m\u001B[33mFitting \u001B[39m\u001B[38;5;132;01m{0}\u001B[39;00m\u001B[33m folds for each of \u001B[39m\u001B[38;5;132;01m{1}\u001B[39;00m\u001B[33m candidates,\u001B[39m\u001B[33m\"\u001B[39m\n\u001B[32m    965\u001B[39m         \u001B[33m\"\u001B[39m\u001B[33m totalling \u001B[39m\u001B[38;5;132;01m{2}\u001B[39;00m\u001B[33m fits\u001B[39m\u001B[33m\"\u001B[39m.format(\n\u001B[32m    966\u001B[39m             n_splits, n_candidates, n_candidates * n_splits\n\u001B[32m    967\u001B[39m         )\n\u001B[32m    968\u001B[39m     )\n\u001B[32m--> \u001B[39m\u001B[32m970\u001B[39m out = parallel(\n\u001B[32m    971\u001B[39m     delayed(_fit_and_score)(\n\u001B[32m    972\u001B[39m         clone(base_estimator),\n\u001B[32m    973\u001B[39m         X,\n\u001B[32m    974\u001B[39m         y,\n\u001B[32m    975\u001B[39m         train=train,\n\u001B[32m    976\u001B[39m         test=test,\n\u001B[32m    977\u001B[39m         parameters=parameters,\n\u001B[32m    978\u001B[39m         split_progress=(split_idx, n_splits),\n\u001B[32m    979\u001B[39m         candidate_progress=(cand_idx, n_candidates),\n\u001B[32m    980\u001B[39m         **fit_and_score_kwargs,\n\u001B[32m    981\u001B[39m     )\n\u001B[32m    982\u001B[39m     \u001B[38;5;28;01mfor\u001B[39;00m (cand_idx, parameters), (split_idx, (train, test)) \u001B[38;5;129;01min\u001B[39;00m product(\n\u001B[32m    983\u001B[39m         \u001B[38;5;28menumerate\u001B[39m(candidate_params),\n\u001B[32m    984\u001B[39m         \u001B[38;5;28menumerate\u001B[39m(cv.split(X, y, **routed_params.splitter.split)),\n\u001B[32m    985\u001B[39m     )\n\u001B[32m    986\u001B[39m )\n\u001B[32m    988\u001B[39m \u001B[38;5;28;01mif\u001B[39;00m \u001B[38;5;28mlen\u001B[39m(out) < \u001B[32m1\u001B[39m:\n\u001B[32m    989\u001B[39m     \u001B[38;5;28;01mraise\u001B[39;00m \u001B[38;5;167;01mValueError\u001B[39;00m(\n\u001B[32m    990\u001B[39m         \u001B[33m\"\u001B[39m\u001B[33mNo fits were performed. \u001B[39m\u001B[33m\"\u001B[39m\n\u001B[32m    991\u001B[39m         \u001B[33m\"\u001B[39m\u001B[33mWas the CV iterator empty? \u001B[39m\u001B[33m\"\u001B[39m\n\u001B[32m    992\u001B[39m         \u001B[33m\"\u001B[39m\u001B[33mWere there no candidates?\u001B[39m\u001B[33m\"\u001B[39m\n\u001B[32m    993\u001B[39m     )\n",
      "\u001B[36mFile \u001B[39m\u001B[32m~\\anaconda3\\envs\\DS\\Lib\\site-packages\\sklearn\\utils\\parallel.py:77\u001B[39m, in \u001B[36mParallel.__call__\u001B[39m\u001B[34m(self, iterable)\u001B[39m\n\u001B[32m     72\u001B[39m config = get_config()\n\u001B[32m     73\u001B[39m iterable_with_config = (\n\u001B[32m     74\u001B[39m     (_with_config(delayed_func, config), args, kwargs)\n\u001B[32m     75\u001B[39m     \u001B[38;5;28;01mfor\u001B[39;00m delayed_func, args, kwargs \u001B[38;5;129;01min\u001B[39;00m iterable\n\u001B[32m     76\u001B[39m )\n\u001B[32m---> \u001B[39m\u001B[32m77\u001B[39m \u001B[38;5;28;01mreturn\u001B[39;00m \u001B[38;5;28msuper\u001B[39m().\u001B[34m__call__\u001B[39m(iterable_with_config)\n",
      "\u001B[36mFile \u001B[39m\u001B[32m~\\anaconda3\\envs\\DS\\Lib\\site-packages\\joblib\\parallel.py:2007\u001B[39m, in \u001B[36mParallel.__call__\u001B[39m\u001B[34m(self, iterable)\u001B[39m\n\u001B[32m   2001\u001B[39m \u001B[38;5;66;03m# The first item from the output is blank, but it makes the interpreter\u001B[39;00m\n\u001B[32m   2002\u001B[39m \u001B[38;5;66;03m# progress until it enters the Try/Except block of the generator and\u001B[39;00m\n\u001B[32m   2003\u001B[39m \u001B[38;5;66;03m# reaches the first `yield` statement. This starts the asynchronous\u001B[39;00m\n\u001B[32m   2004\u001B[39m \u001B[38;5;66;03m# dispatch of the tasks to the workers.\u001B[39;00m\n\u001B[32m   2005\u001B[39m \u001B[38;5;28mnext\u001B[39m(output)\n\u001B[32m-> \u001B[39m\u001B[32m2007\u001B[39m \u001B[38;5;28;01mreturn\u001B[39;00m output \u001B[38;5;28;01mif\u001B[39;00m \u001B[38;5;28mself\u001B[39m.return_generator \u001B[38;5;28;01melse\u001B[39;00m \u001B[38;5;28mlist\u001B[39m(output)\n",
      "\u001B[36mFile \u001B[39m\u001B[32m~\\anaconda3\\envs\\DS\\Lib\\site-packages\\joblib\\parallel.py:1650\u001B[39m, in \u001B[36mParallel._get_outputs\u001B[39m\u001B[34m(self, iterator, pre_dispatch)\u001B[39m\n\u001B[32m   1647\u001B[39m     \u001B[38;5;28;01myield\u001B[39;00m\n\u001B[32m   1649\u001B[39m     \u001B[38;5;28;01mwith\u001B[39;00m \u001B[38;5;28mself\u001B[39m._backend.retrieval_context():\n\u001B[32m-> \u001B[39m\u001B[32m1650\u001B[39m         \u001B[38;5;28;01myield from\u001B[39;00m \u001B[38;5;28mself\u001B[39m._retrieve()\n\u001B[32m   1652\u001B[39m \u001B[38;5;28;01mexcept\u001B[39;00m \u001B[38;5;167;01mGeneratorExit\u001B[39;00m:\n\u001B[32m   1653\u001B[39m     \u001B[38;5;66;03m# The generator has been garbage collected before being fully\u001B[39;00m\n\u001B[32m   1654\u001B[39m     \u001B[38;5;66;03m# consumed. This aborts the remaining tasks if possible and warn\u001B[39;00m\n\u001B[32m   1655\u001B[39m     \u001B[38;5;66;03m# the user if necessary.\u001B[39;00m\n\u001B[32m   1656\u001B[39m     \u001B[38;5;28mself\u001B[39m._exception = \u001B[38;5;28;01mTrue\u001B[39;00m\n",
      "\u001B[36mFile \u001B[39m\u001B[32m~\\anaconda3\\envs\\DS\\Lib\\site-packages\\joblib\\parallel.py:1762\u001B[39m, in \u001B[36mParallel._retrieve\u001B[39m\u001B[34m(self)\u001B[39m\n\u001B[32m   1757\u001B[39m \u001B[38;5;66;03m# If the next job is not ready for retrieval yet, we just wait for\u001B[39;00m\n\u001B[32m   1758\u001B[39m \u001B[38;5;66;03m# async callbacks to progress.\u001B[39;00m\n\u001B[32m   1759\u001B[39m \u001B[38;5;28;01mif\u001B[39;00m ((\u001B[38;5;28mlen\u001B[39m(\u001B[38;5;28mself\u001B[39m._jobs) == \u001B[32m0\u001B[39m) \u001B[38;5;129;01mor\u001B[39;00m\n\u001B[32m   1760\u001B[39m     (\u001B[38;5;28mself\u001B[39m._jobs[\u001B[32m0\u001B[39m].get_status(\n\u001B[32m   1761\u001B[39m         timeout=\u001B[38;5;28mself\u001B[39m.timeout) == TASK_PENDING)):\n\u001B[32m-> \u001B[39m\u001B[32m1762\u001B[39m     time.sleep(\u001B[32m0.01\u001B[39m)\n\u001B[32m   1763\u001B[39m     \u001B[38;5;28;01mcontinue\u001B[39;00m\n\u001B[32m   1765\u001B[39m \u001B[38;5;66;03m# We need to be careful: the job list can be filling up as\u001B[39;00m\n\u001B[32m   1766\u001B[39m \u001B[38;5;66;03m# we empty it and Python list are not thread-safe by\u001B[39;00m\n\u001B[32m   1767\u001B[39m \u001B[38;5;66;03m# default hence the use of the lock\u001B[39;00m\n",
      "\u001B[31mKeyboardInterrupt\u001B[39m: "
     ]
    }
   ],
   "execution_count": 26
  },
  {
   "metadata": {
    "ExecuteTime": {
     "end_time": "2025-04-28T00:04:27.051162Z",
     "start_time": "2025-04-28T00:04:27.037275Z"
    }
   },
   "cell_type": "code",
   "source": "gcvs['svc_nmf'].best_score_",
   "id": "7a47a120df094221",
   "outputs": [
    {
     "data": {
      "text/plain": [
       "np.float64(0.9928496319663512)"
      ]
     },
     "execution_count": 1023,
     "metadata": {},
     "output_type": "execute_result"
    }
   ],
   "execution_count": 1023
  },
  {
   "metadata": {
    "ExecuteTime": {
     "end_time": "2025-04-28T00:04:31.406590Z",
     "start_time": "2025-04-28T00:04:27.088258Z"
    }
   },
   "cell_type": "code",
   "source": "gcvs['svc_nmf'].score(X_test50, y_test50)",
   "id": "401b7f8073b8ce3c",
   "outputs": [
    {
     "data": {
      "text/plain": [
       "0.9913774973711882"
      ]
     },
     "execution_count": 1024,
     "metadata": {},
     "output_type": "execute_result"
    }
   ],
   "execution_count": 1024
  },
  {
   "metadata": {
    "ExecuteTime": {
     "end_time": "2025-04-28T00:04:31.558260Z",
     "start_time": "2025-04-28T00:04:31.552335Z"
    }
   },
   "cell_type": "code",
   "source": "gcvs['svc_nmf'].best_params_",
   "id": "22e65091e6efbcf9",
   "outputs": [
    {
     "data": {
      "text/plain": [
       "{'nmf__n_components': None,\n",
       " 'svc__C': 6,\n",
       " 'svc__kernel': 'linear',\n",
       " 'vectorizing__text__max_df': 0.99,\n",
       " 'vectorizing__text__max_features': 175,\n",
       " 'vectorizing__text__min_df': 1,\n",
       " 'vectorizing__text__ngram_range': (1, 1),\n",
       " 'vectorizing__title__max_df': 0.99,\n",
       " 'vectorizing__title__max_features': 200,\n",
       " 'vectorizing__title__min_df': 1,\n",
       " 'vectorizing__title__ngram_range': (1, 1)}"
      ]
     },
     "execution_count": 1025,
     "metadata": {},
     "output_type": "execute_result"
    }
   ],
   "execution_count": 1025
  },
  {
   "metadata": {
    "ExecuteTime": {
     "end_time": "2025-04-28T00:04:31.810762Z",
     "start_time": "2025-04-28T00:04:31.709421Z"
    }
   },
   "cell_type": "code",
   "source": [
    "\n",
    "df = pd.DataFrame(gcvs['svc_nmf'].cv_results_)\n",
    "sns.scatterplot(x='rank_test_score', y='mean_test_score', data=df)\n"
   ],
   "id": "42905f7dad4b37c3",
   "outputs": [
    {
     "data": {
      "text/plain": [
       "<Axes: xlabel='rank_test_score', ylabel='mean_test_score'>"
      ]
     },
     "execution_count": 1026,
     "metadata": {},
     "output_type": "execute_result"
    },
    {
     "data": {
      "text/plain": [
       "<Figure size 640x480 with 1 Axes>"
      ],
      "image/png": "[encoded data removed]"
     },
     "metadata": {},
     "output_type": "display_data"
    }
   ],
   "execution_count": 1026
  },
  {
   "metadata": {
    "ExecuteTime": {
     "end_time": "2025-04-28T01:10:26.196512Z",
     "start_time": "2025-04-28T01:10:26.190406Z"
    }
   },
   "cell_type": "code",
   "source": [
    "param_grids['kmeans'] = {}\n",
    "param_grids['kmeans']['vectorizing__title__max_features'] = [400, 500, 600]#[800, 1600]#[28,30, 32]\n",
    "param_grids['kmeans']['vectorizing__text__max_features'] = [400, 500, 600]#[2,3,4]\n",
    "param_grids['kmeans']['vectorizing__title__ngram_range'] = [(1,1), (1,2), (1,3)]#[(1,1), (1,2), (1,3)]\n",
    "param_grids['kmeans']['vectorizing__text__ngram_range'] = [(1,2),(1,3), (1,1)]#[(1,4), (1,3)]\n",
    "param_grids['kmeans']['vectorizing__text__min_df'] = [1,2]#[1,2]\n",
    "param_grids['kmeans']['vectorizing__title__min_df'] = [1,2]#[5,4,3,2]\n",
    "param_grids['kmeans']['vectorizing__text__max_df'] = [.99]#[.99, .98]\n",
    "param_grids['kmeans']['vectorizing__title__max_df'] = [.99]#[.99, .98]#[5,4,3,2]\n",
    "param_grids['kmeans']['pca__whiten'] = [False]\n",
    "param_grids['kmeans']['pca__n_components'] = [None]#[50, 100, 150, 200, 250, 300, 350, 400, 450, 500]\n",
    "param_grids['kmeans']['kmeans__n_init'] = [1]#[1,2,4]\n"
   ],
   "id": "573c9e0cc30a1c66",
   "outputs": [],
   "execution_count": 27
  },
  {
   "metadata": {
    "ExecuteTime": {
     "end_time": "2025-04-28T01:10:32.936628Z",
     "start_time": "2025-04-28T01:10:26.948355Z"
    }
   },
   "cell_type": "code",
   "source": [
    "gcvs['kmeans'] = GridSearchCV(pipelines['kmeans'],\n",
    "                              param_grids['kmeans'],\n",
    "                              cv = 3, n_jobs = -1,\n",
    "                              verbose = 100).fit(X_train50, y_train50)"
   ],
   "id": "4a23a4aaf19eab22",
   "outputs": [
    {
     "name": "stdout",
     "output_type": "stream",
     "text": [
      "Fitting 3 folds for each of 324 candidates, totalling 972 fits\n"
     ]
    },
    {
     "ename": "KeyboardInterrupt",
     "evalue": "",
     "output_type": "error",
     "traceback": [
      "\u001B[31m---------------------------------------------------------------------------\u001B[39m",
      "\u001B[31mKeyboardInterrupt\u001B[39m                         Traceback (most recent call last)",
      "\u001B[36mCell\u001B[39m\u001B[36m \u001B[39m\u001B[32mIn[28]\u001B[39m\u001B[32m, line 4\u001B[39m\n\u001B[32m      1\u001B[39m gcvs[\u001B[33m'\u001B[39m\u001B[33mkmeans\u001B[39m\u001B[33m'\u001B[39m] = GridSearchCV(pipelines[\u001B[33m'\u001B[39m\u001B[33mkmeans\u001B[39m\u001B[33m'\u001B[39m],\n\u001B[32m      2\u001B[39m                               param_grids[\u001B[33m'\u001B[39m\u001B[33mkmeans\u001B[39m\u001B[33m'\u001B[39m],\n\u001B[32m      3\u001B[39m                               cv = \u001B[32m3\u001B[39m, n_jobs = -\u001B[32m1\u001B[39m,\n\u001B[32m----> \u001B[39m\u001B[32m4\u001B[39m                               verbose = \u001B[32m100\u001B[39m).fit(X_train50, y_train50)\n",
      "\u001B[36mFile \u001B[39m\u001B[32m~\\anaconda3\\envs\\DS\\Lib\\site-packages\\sklearn\\base.py:1389\u001B[39m, in \u001B[36m_fit_context.<locals>.decorator.<locals>.wrapper\u001B[39m\u001B[34m(estimator, *args, **kwargs)\u001B[39m\n\u001B[32m   1382\u001B[39m     estimator._validate_params()\n\u001B[32m   1384\u001B[39m \u001B[38;5;28;01mwith\u001B[39;00m config_context(\n\u001B[32m   1385\u001B[39m     skip_parameter_validation=(\n\u001B[32m   1386\u001B[39m         prefer_skip_nested_validation \u001B[38;5;129;01mor\u001B[39;00m global_skip_validation\n\u001B[32m   1387\u001B[39m     )\n\u001B[32m   1388\u001B[39m ):\n\u001B[32m-> \u001B[39m\u001B[32m1389\u001B[39m     \u001B[38;5;28;01mreturn\u001B[39;00m fit_method(estimator, *args, **kwargs)\n",
      "\u001B[36mFile \u001B[39m\u001B[32m~\\anaconda3\\envs\\DS\\Lib\\site-packages\\sklearn\\model_selection\\_search.py:1024\u001B[39m, in \u001B[36mBaseSearchCV.fit\u001B[39m\u001B[34m(self, X, y, **params)\u001B[39m\n\u001B[32m   1018\u001B[39m     results = \u001B[38;5;28mself\u001B[39m._format_results(\n\u001B[32m   1019\u001B[39m         all_candidate_params, n_splits, all_out, all_more_results\n\u001B[32m   1020\u001B[39m     )\n\u001B[32m   1022\u001B[39m     \u001B[38;5;28;01mreturn\u001B[39;00m results\n\u001B[32m-> \u001B[39m\u001B[32m1024\u001B[39m \u001B[38;5;28mself\u001B[39m._run_search(evaluate_candidates)\n\u001B[32m   1026\u001B[39m \u001B[38;5;66;03m# multimetric is determined here because in the case of a callable\u001B[39;00m\n\u001B[32m   1027\u001B[39m \u001B[38;5;66;03m# self.scoring the return type is only known after calling\u001B[39;00m\n\u001B[32m   1028\u001B[39m first_test_score = all_out[\u001B[32m0\u001B[39m][\u001B[33m\"\u001B[39m\u001B[33mtest_scores\u001B[39m\u001B[33m\"\u001B[39m]\n",
      "\u001B[36mFile \u001B[39m\u001B[32m~\\anaconda3\\envs\\DS\\Lib\\site-packages\\sklearn\\model_selection\\_search.py:1571\u001B[39m, in \u001B[36mGridSearchCV._run_search\u001B[39m\u001B[34m(self, evaluate_candidates)\u001B[39m\n\u001B[32m   1569\u001B[39m \u001B[38;5;28;01mdef\u001B[39;00m\u001B[38;5;250m \u001B[39m\u001B[34m_run_search\u001B[39m(\u001B[38;5;28mself\u001B[39m, evaluate_candidates):\n\u001B[32m   1570\u001B[39m \u001B[38;5;250m    \u001B[39m\u001B[33;03m\"\"\"Search all candidates in param_grid\"\"\"\u001B[39;00m\n\u001B[32m-> \u001B[39m\u001B[32m1571\u001B[39m     evaluate_candidates(ParameterGrid(\u001B[38;5;28mself\u001B[39m.param_grid))\n",
      "\u001B[36mFile \u001B[39m\u001B[32m~\\anaconda3\\envs\\DS\\Lib\\site-packages\\sklearn\\model_selection\\_search.py:970\u001B[39m, in \u001B[36mBaseSearchCV.fit.<locals>.evaluate_candidates\u001B[39m\u001B[34m(candidate_params, cv, more_results)\u001B[39m\n\u001B[32m    962\u001B[39m \u001B[38;5;28;01mif\u001B[39;00m \u001B[38;5;28mself\u001B[39m.verbose > \u001B[32m0\u001B[39m:\n\u001B[32m    963\u001B[39m     \u001B[38;5;28mprint\u001B[39m(\n\u001B[32m    964\u001B[39m         \u001B[33m\"\u001B[39m\u001B[33mFitting \u001B[39m\u001B[38;5;132;01m{0}\u001B[39;00m\u001B[33m folds for each of \u001B[39m\u001B[38;5;132;01m{1}\u001B[39;00m\u001B[33m candidates,\u001B[39m\u001B[33m\"\u001B[39m\n\u001B[32m    965\u001B[39m         \u001B[33m\"\u001B[39m\u001B[33m totalling \u001B[39m\u001B[38;5;132;01m{2}\u001B[39;00m\u001B[33m fits\u001B[39m\u001B[33m\"\u001B[39m.format(\n\u001B[32m    966\u001B[39m             n_splits, n_candidates, n_candidates * n_splits\n\u001B[32m    967\u001B[39m         )\n\u001B[32m    968\u001B[39m     )\n\u001B[32m--> \u001B[39m\u001B[32m970\u001B[39m out = parallel(\n\u001B[32m    971\u001B[39m     delayed(_fit_and_score)(\n\u001B[32m    972\u001B[39m         clone(base_estimator),\n\u001B[32m    973\u001B[39m         X,\n\u001B[32m    974\u001B[39m         y,\n\u001B[32m    975\u001B[39m         train=train,\n\u001B[32m    976\u001B[39m         test=test,\n\u001B[32m    977\u001B[39m         parameters=parameters,\n\u001B[32m    978\u001B[39m         split_progress=(split_idx, n_splits),\n\u001B[32m    979\u001B[39m         candidate_progress=(cand_idx, n_candidates),\n\u001B[32m    980\u001B[39m         **fit_and_score_kwargs,\n\u001B[32m    981\u001B[39m     )\n\u001B[32m    982\u001B[39m     \u001B[38;5;28;01mfor\u001B[39;00m (cand_idx, parameters), (split_idx, (train, test)) \u001B[38;5;129;01min\u001B[39;00m product(\n\u001B[32m    983\u001B[39m         \u001B[38;5;28menumerate\u001B[39m(candidate_params),\n\u001B[32m    984\u001B[39m         \u001B[38;5;28menumerate\u001B[39m(cv.split(X, y, **routed_params.splitter.split)),\n\u001B[32m    985\u001B[39m     )\n\u001B[32m    986\u001B[39m )\n\u001B[32m    988\u001B[39m \u001B[38;5;28;01mif\u001B[39;00m \u001B[38;5;28mlen\u001B[39m(out) < \u001B[32m1\u001B[39m:\n\u001B[32m    989\u001B[39m     \u001B[38;5;28;01mraise\u001B[39;00m \u001B[38;5;167;01mValueError\u001B[39;00m(\n\u001B[32m    990\u001B[39m         \u001B[33m\"\u001B[39m\u001B[33mNo fits were performed. \u001B[39m\u001B[33m\"\u001B[39m\n\u001B[32m    991\u001B[39m         \u001B[33m\"\u001B[39m\u001B[33mWas the CV iterator empty? \u001B[39m\u001B[33m\"\u001B[39m\n\u001B[32m    992\u001B[39m         \u001B[33m\"\u001B[39m\u001B[33mWere there no candidates?\u001B[39m\u001B[33m\"\u001B[39m\n\u001B[32m    993\u001B[39m     )\n",
      "\u001B[36mFile \u001B[39m\u001B[32m~\\anaconda3\\envs\\DS\\Lib\\site-packages\\sklearn\\utils\\parallel.py:77\u001B[39m, in \u001B[36mParallel.__call__\u001B[39m\u001B[34m(self, iterable)\u001B[39m\n\u001B[32m     72\u001B[39m config = get_config()\n\u001B[32m     73\u001B[39m iterable_with_config = (\n\u001B[32m     74\u001B[39m     (_with_config(delayed_func, config), args, kwargs)\n\u001B[32m     75\u001B[39m     \u001B[38;5;28;01mfor\u001B[39;00m delayed_func, args, kwargs \u001B[38;5;129;01min\u001B[39;00m iterable\n\u001B[32m     76\u001B[39m )\n\u001B[32m---> \u001B[39m\u001B[32m77\u001B[39m \u001B[38;5;28;01mreturn\u001B[39;00m \u001B[38;5;28msuper\u001B[39m().\u001B[34m__call__\u001B[39m(iterable_with_config)\n",
      "\u001B[36mFile \u001B[39m\u001B[32m~\\anaconda3\\envs\\DS\\Lib\\site-packages\\joblib\\parallel.py:2007\u001B[39m, in \u001B[36mParallel.__call__\u001B[39m\u001B[34m(self, iterable)\u001B[39m\n\u001B[32m   2001\u001B[39m \u001B[38;5;66;03m# The first item from the output is blank, but it makes the interpreter\u001B[39;00m\n\u001B[32m   2002\u001B[39m \u001B[38;5;66;03m# progress until it enters the Try/Except block of the generator and\u001B[39;00m\n\u001B[32m   2003\u001B[39m \u001B[38;5;66;03m# reaches the first `yield` statement. This starts the asynchronous\u001B[39;00m\n\u001B[32m   2004\u001B[39m \u001B[38;5;66;03m# dispatch of the tasks to the workers.\u001B[39;00m\n\u001B[32m   2005\u001B[39m \u001B[38;5;28mnext\u001B[39m(output)\n\u001B[32m-> \u001B[39m\u001B[32m2007\u001B[39m \u001B[38;5;28;01mreturn\u001B[39;00m output \u001B[38;5;28;01mif\u001B[39;00m \u001B[38;5;28mself\u001B[39m.return_generator \u001B[38;5;28;01melse\u001B[39;00m \u001B[38;5;28mlist\u001B[39m(output)\n",
      "\u001B[36mFile \u001B[39m\u001B[32m~\\anaconda3\\envs\\DS\\Lib\\site-packages\\joblib\\parallel.py:1650\u001B[39m, in \u001B[36mParallel._get_outputs\u001B[39m\u001B[34m(self, iterator, pre_dispatch)\u001B[39m\n\u001B[32m   1647\u001B[39m     \u001B[38;5;28;01myield\u001B[39;00m\n\u001B[32m   1649\u001B[39m     \u001B[38;5;28;01mwith\u001B[39;00m \u001B[38;5;28mself\u001B[39m._backend.retrieval_context():\n\u001B[32m-> \u001B[39m\u001B[32m1650\u001B[39m         \u001B[38;5;28;01myield from\u001B[39;00m \u001B[38;5;28mself\u001B[39m._retrieve()\n\u001B[32m   1652\u001B[39m \u001B[38;5;28;01mexcept\u001B[39;00m \u001B[38;5;167;01mGeneratorExit\u001B[39;00m:\n\u001B[32m   1653\u001B[39m     \u001B[38;5;66;03m# The generator has been garbage collected before being fully\u001B[39;00m\n\u001B[32m   1654\u001B[39m     \u001B[38;5;66;03m# consumed. This aborts the remaining tasks if possible and warn\u001B[39;00m\n\u001B[32m   1655\u001B[39m     \u001B[38;5;66;03m# the user if necessary.\u001B[39;00m\n\u001B[32m   1656\u001B[39m     \u001B[38;5;28mself\u001B[39m._exception = \u001B[38;5;28;01mTrue\u001B[39;00m\n",
      "\u001B[36mFile \u001B[39m\u001B[32m~\\anaconda3\\envs\\DS\\Lib\\site-packages\\joblib\\parallel.py:1762\u001B[39m, in \u001B[36mParallel._retrieve\u001B[39m\u001B[34m(self)\u001B[39m\n\u001B[32m   1757\u001B[39m \u001B[38;5;66;03m# If the next job is not ready for retrieval yet, we just wait for\u001B[39;00m\n\u001B[32m   1758\u001B[39m \u001B[38;5;66;03m# async callbacks to progress.\u001B[39;00m\n\u001B[32m   1759\u001B[39m \u001B[38;5;28;01mif\u001B[39;00m ((\u001B[38;5;28mlen\u001B[39m(\u001B[38;5;28mself\u001B[39m._jobs) == \u001B[32m0\u001B[39m) \u001B[38;5;129;01mor\u001B[39;00m\n\u001B[32m   1760\u001B[39m     (\u001B[38;5;28mself\u001B[39m._jobs[\u001B[32m0\u001B[39m].get_status(\n\u001B[32m   1761\u001B[39m         timeout=\u001B[38;5;28mself\u001B[39m.timeout) == TASK_PENDING)):\n\u001B[32m-> \u001B[39m\u001B[32m1762\u001B[39m     time.sleep(\u001B[32m0.01\u001B[39m)\n\u001B[32m   1763\u001B[39m     \u001B[38;5;28;01mcontinue\u001B[39;00m\n\u001B[32m   1765\u001B[39m \u001B[38;5;66;03m# We need to be careful: the job list can be filling up as\u001B[39;00m\n\u001B[32m   1766\u001B[39m \u001B[38;5;66;03m# we empty it and Python list are not thread-safe by\u001B[39;00m\n\u001B[32m   1767\u001B[39m \u001B[38;5;66;03m# default hence the use of the lock\u001B[39;00m\n",
      "\u001B[31mKeyboardInterrupt\u001B[39m: "
     ]
    }
   ],
   "execution_count": 28
  },
  {
   "metadata": {
    "ExecuteTime": {
     "end_time": "2025-04-27T23:31:19.483006Z",
     "start_time": "2025-04-27T23:31:19.476131Z"
    }
   },
   "cell_type": "code",
   "source": "gcvs['kmeans'].best_score_",
   "id": "c46071d95eba21b0",
   "outputs": [
    {
     "data": {
      "text/plain": [
       "np.float64(0.8984227129337539)"
      ]
     },
     "execution_count": 1011,
     "metadata": {},
     "output_type": "execute_result"
    }
   ],
   "execution_count": 1011
  },
  {
   "metadata": {
    "ExecuteTime": {
     "end_time": "2025-04-27T23:31:31.623308Z",
     "start_time": "2025-04-27T23:31:19.483006Z"
    }
   },
   "cell_type": "code",
   "source": "gcvs['kmeans'].score(X_test50, y_test50)",
   "id": "9b2f25b91862eeb7",
   "outputs": [
    {
     "name": "stdout",
     "output_type": "stream",
     "text": [
      "Predicting...\n"
     ]
    },
    {
     "name": "stderr",
     "output_type": "stream",
     "text": [
      "C:\\Users\\theru\\scoop\\apps\\anaconda3\\current\\App\\envs\\DS\\Lib\\site-packages\\sklearn\\pipeline.py:62: FutureWarning: This Pipeline instance is not fitted yet. Call 'fit' with appropriate arguments before using other methods such as transform, predict, etc. This will raise an error in 1.8 instead of the current warning.\n",
      "  warnings.warn(\n"
     ]
    },
    {
     "data": {
      "text/plain": [
       "0.8935331230283912"
      ]
     },
     "execution_count": 1012,
     "metadata": {},
     "output_type": "execute_result"
    }
   ],
   "execution_count": 1012
  },
  {
   "metadata": {
    "ExecuteTime": {
     "end_time": "2025-04-27T23:31:31.812511Z",
     "start_time": "2025-04-27T23:31:31.806575Z"
    }
   },
   "cell_type": "code",
   "source": "gcvs['kmeans'].best_params_",
   "id": "e90961cea112df2",
   "outputs": [
    {
     "data": {
      "text/plain": [
       "{'kmeans__n_init': 1,\n",
       " 'pca__n_components': None,\n",
       " 'pca__whiten': False,\n",
       " 'vectorizing__text__max_df': 0.99,\n",
       " 'vectorizing__text__max_features': 600,\n",
       " 'vectorizing__text__min_df': 1,\n",
       " 'vectorizing__text__ngram_range': (1, 3),\n",
       " 'vectorizing__title__max_df': 0.99,\n",
       " 'vectorizing__title__max_features': 500,\n",
       " 'vectorizing__title__min_df': 1,\n",
       " 'vectorizing__title__ngram_range': (1, 2)}"
      ]
     },
     "execution_count": 1013,
     "metadata": {},
     "output_type": "execute_result"
    }
   ],
   "execution_count": 1013
  },
  {
   "metadata": {
    "ExecuteTime": {
     "end_time": "2025-04-27T23:31:32.104884Z",
     "start_time": "2025-04-27T23:31:31.964706Z"
    }
   },
   "cell_type": "code",
   "source": [
    "df = pd.DataFrame(gcvs['kmeans'].cv_results_)\n",
    "sns.scatterplot(x='rank_test_score', y='mean_test_score', data=df)"
   ],
   "id": "a58be5131992be83",
   "outputs": [
    {
     "data": {
      "text/plain": [
       "<Axes: xlabel='rank_test_score', ylabel='mean_test_score'>"
      ]
     },
     "execution_count": 1014,
     "metadata": {},
     "output_type": "execute_result"
    },
    {
     "data": {
      "text/plain": [
       "<Figure size 640x480 with 1 Axes>"
      ],
      "image/png": "[encoded data removed]"
     },
     "metadata": {},
     "output_type": "display_data"
    }
   ],
   "execution_count": 1014
  },
  {
   "metadata": {
    "ExecuteTime": {
     "end_time": "2025-04-28T01:11:07.892342Z",
     "start_time": "2025-04-28T01:11:07.885955Z"
    }
   },
   "cell_type": "code",
   "source": [
    "param_grids['kmeans_nmf'] = {}\n",
    "param_grids['kmeans_nmf']['vectorizing__title__max_features'] = [400, 500, 600]#[400,500,600]#[300,400,500]#[800, 1600]#[28,30, 32]\n",
    "param_grids['kmeans_nmf']['vectorizing__text__max_features'] = [500, 600, 700]#[600, 700]#[550, 600, 650]#[2,3,4]\n",
    "param_grids['kmeans_nmf']['vectorizing__title__ngram_range'] = [(1,1), (1,2), (1,3)]#[(1,1), (1,2), (1,3)]\n",
    "param_grids['kmeans_nmf']['vectorizing__text__ngram_range'] = [(1,1),(1,2), (1,3)]#[(1,3), (1,2)]#[(1,4), (1,3)]\n",
    "param_grids['kmeans_nmf']['vectorizing__text__min_df'] = [1]#[1,2]\n",
    "param_grids['kmeans_nmf']['vectorizing__title__min_df'] = [1]#[5,4,3,2]\n",
    "param_grids['kmeans_nmf']['vectorizing__text__max_df'] = [.99]#[.99, .98]\n",
    "param_grids['kmeans_nmf']['vectorizing__title__max_df'] = [.99]#[.99, .98]#[5,4,3,2]\n",
    "param_grids['kmeans_nmf']['nmf__max_iter'] = [1000]\n",
    "param_grids['kmeans_nmf']['nmf__n_components'] = [9,10,11]#[2,4,8,10,12,14,16,18]#[10,11]#[11,12,13,14,15]#[50, 100, 150, 200, 250, 300, 350, 400, 450, 500]\n",
    "param_grids['kmeans_nmf']['nmf__random_state'] = [27]\n",
    "param_grids['kmeans_nmf']['nmf__init'] = ['nndsvda']#['nndsvd', 'nndsvda']\n",
    "param_grids['kmeans_nmf']['nmf__solver'] = ['cd']#['mu', 'cd']\n",
    "param_grids['kmeans_nmf']['kmeans__random_state'] = [27]\n",
    "param_grids['kmeans_nmf']['kmeans__n_init'] = [1]#[1,2,4]\n"
   ],
   "id": "573c60f1ed1e9964",
   "outputs": [],
   "execution_count": 29
  },
  {
   "metadata": {
    "ExecuteTime": {
     "end_time": "2025-04-28T01:11:13.040210Z",
     "start_time": "2025-04-28T01:11:08.166732Z"
    }
   },
   "cell_type": "code",
   "source": [
    "gcvs['kmeans_nmf'] = GridSearchCV(pipelines['kmeans_nmf'],\n",
    "                              param_grids['kmeans_nmf'],\n",
    "                              cv = 5, n_jobs = -1,\n",
    "                              verbose = 100).fit(X_train50, y_train50)\n"
   ],
   "id": "8b28d36b267c6904",
   "outputs": [
    {
     "name": "stdout",
     "output_type": "stream",
     "text": [
      "Fitting 5 folds for each of 243 candidates, totalling 1215 fits\n"
     ]
    },
    {
     "ename": "KeyboardInterrupt",
     "evalue": "",
     "output_type": "error",
     "traceback": [
      "\u001B[31m---------------------------------------------------------------------------\u001B[39m",
      "\u001B[31mKeyboardInterrupt\u001B[39m                         Traceback (most recent call last)",
      "\u001B[36mCell\u001B[39m\u001B[36m \u001B[39m\u001B[32mIn[30]\u001B[39m\u001B[32m, line 4\u001B[39m\n\u001B[32m      1\u001B[39m gcvs[\u001B[33m'\u001B[39m\u001B[33mkmeans_nmf\u001B[39m\u001B[33m'\u001B[39m] = GridSearchCV(pipelines[\u001B[33m'\u001B[39m\u001B[33mkmeans_nmf\u001B[39m\u001B[33m'\u001B[39m],\n\u001B[32m      2\u001B[39m                               param_grids[\u001B[33m'\u001B[39m\u001B[33mkmeans_nmf\u001B[39m\u001B[33m'\u001B[39m],\n\u001B[32m      3\u001B[39m                               cv = \u001B[32m5\u001B[39m, n_jobs = -\u001B[32m1\u001B[39m,\n\u001B[32m----> \u001B[39m\u001B[32m4\u001B[39m                               verbose = \u001B[32m100\u001B[39m).fit(X_train50, y_train50)\n",
      "\u001B[36mFile \u001B[39m\u001B[32m~\\anaconda3\\envs\\DS\\Lib\\site-packages\\sklearn\\base.py:1389\u001B[39m, in \u001B[36m_fit_context.<locals>.decorator.<locals>.wrapper\u001B[39m\u001B[34m(estimator, *args, **kwargs)\u001B[39m\n\u001B[32m   1382\u001B[39m     estimator._validate_params()\n\u001B[32m   1384\u001B[39m \u001B[38;5;28;01mwith\u001B[39;00m config_context(\n\u001B[32m   1385\u001B[39m     skip_parameter_validation=(\n\u001B[32m   1386\u001B[39m         prefer_skip_nested_validation \u001B[38;5;129;01mor\u001B[39;00m global_skip_validation\n\u001B[32m   1387\u001B[39m     )\n\u001B[32m   1388\u001B[39m ):\n\u001B[32m-> \u001B[39m\u001B[32m1389\u001B[39m     \u001B[38;5;28;01mreturn\u001B[39;00m fit_method(estimator, *args, **kwargs)\n",
      "\u001B[36mFile \u001B[39m\u001B[32m~\\anaconda3\\envs\\DS\\Lib\\site-packages\\sklearn\\model_selection\\_search.py:1024\u001B[39m, in \u001B[36mBaseSearchCV.fit\u001B[39m\u001B[34m(self, X, y, **params)\u001B[39m\n\u001B[32m   1018\u001B[39m     results = \u001B[38;5;28mself\u001B[39m._format_results(\n\u001B[32m   1019\u001B[39m         all_candidate_params, n_splits, all_out, all_more_results\n\u001B[32m   1020\u001B[39m     )\n\u001B[32m   1022\u001B[39m     \u001B[38;5;28;01mreturn\u001B[39;00m results\n\u001B[32m-> \u001B[39m\u001B[32m1024\u001B[39m \u001B[38;5;28mself\u001B[39m._run_search(evaluate_candidates)\n\u001B[32m   1026\u001B[39m \u001B[38;5;66;03m# multimetric is determined here because in the case of a callable\u001B[39;00m\n\u001B[32m   1027\u001B[39m \u001B[38;5;66;03m# self.scoring the return type is only known after calling\u001B[39;00m\n\u001B[32m   1028\u001B[39m first_test_score = all_out[\u001B[32m0\u001B[39m][\u001B[33m\"\u001B[39m\u001B[33mtest_scores\u001B[39m\u001B[33m\"\u001B[39m]\n",
      "\u001B[36mFile \u001B[39m\u001B[32m~\\anaconda3\\envs\\DS\\Lib\\site-packages\\sklearn\\model_selection\\_search.py:1571\u001B[39m, in \u001B[36mGridSearchCV._run_search\u001B[39m\u001B[34m(self, evaluate_candidates)\u001B[39m\n\u001B[32m   1569\u001B[39m \u001B[38;5;28;01mdef\u001B[39;00m\u001B[38;5;250m \u001B[39m\u001B[34m_run_search\u001B[39m(\u001B[38;5;28mself\u001B[39m, evaluate_candidates):\n\u001B[32m   1570\u001B[39m \u001B[38;5;250m    \u001B[39m\u001B[33;03m\"\"\"Search all candidates in param_grid\"\"\"\u001B[39;00m\n\u001B[32m-> \u001B[39m\u001B[32m1571\u001B[39m     evaluate_candidates(ParameterGrid(\u001B[38;5;28mself\u001B[39m.param_grid))\n",
      "\u001B[36mFile \u001B[39m\u001B[32m~\\anaconda3\\envs\\DS\\Lib\\site-packages\\sklearn\\model_selection\\_search.py:970\u001B[39m, in \u001B[36mBaseSearchCV.fit.<locals>.evaluate_candidates\u001B[39m\u001B[34m(candidate_params, cv, more_results)\u001B[39m\n\u001B[32m    962\u001B[39m \u001B[38;5;28;01mif\u001B[39;00m \u001B[38;5;28mself\u001B[39m.verbose > \u001B[32m0\u001B[39m:\n\u001B[32m    963\u001B[39m     \u001B[38;5;28mprint\u001B[39m(\n\u001B[32m    964\u001B[39m         \u001B[33m\"\u001B[39m\u001B[33mFitting \u001B[39m\u001B[38;5;132;01m{0}\u001B[39;00m\u001B[33m folds for each of \u001B[39m\u001B[38;5;132;01m{1}\u001B[39;00m\u001B[33m candidates,\u001B[39m\u001B[33m\"\u001B[39m\n\u001B[32m    965\u001B[39m         \u001B[33m\"\u001B[39m\u001B[33m totalling \u001B[39m\u001B[38;5;132;01m{2}\u001B[39;00m\u001B[33m fits\u001B[39m\u001B[33m\"\u001B[39m.format(\n\u001B[32m    966\u001B[39m             n_splits, n_candidates, n_candidates * n_splits\n\u001B[32m    967\u001B[39m         )\n\u001B[32m    968\u001B[39m     )\n\u001B[32m--> \u001B[39m\u001B[32m970\u001B[39m out = parallel(\n\u001B[32m    971\u001B[39m     delayed(_fit_and_score)(\n\u001B[32m    972\u001B[39m         clone(base_estimator),\n\u001B[32m    973\u001B[39m         X,\n\u001B[32m    974\u001B[39m         y,\n\u001B[32m    975\u001B[39m         train=train,\n\u001B[32m    976\u001B[39m         test=test,\n\u001B[32m    977\u001B[39m         parameters=parameters,\n\u001B[32m    978\u001B[39m         split_progress=(split_idx, n_splits),\n\u001B[32m    979\u001B[39m         candidate_progress=(cand_idx, n_candidates),\n\u001B[32m    980\u001B[39m         **fit_and_score_kwargs,\n\u001B[32m    981\u001B[39m     )\n\u001B[32m    982\u001B[39m     \u001B[38;5;28;01mfor\u001B[39;00m (cand_idx, parameters), (split_idx, (train, test)) \u001B[38;5;129;01min\u001B[39;00m product(\n\u001B[32m    983\u001B[39m         \u001B[38;5;28menumerate\u001B[39m(candidate_params),\n\u001B[32m    984\u001B[39m         \u001B[38;5;28menumerate\u001B[39m(cv.split(X, y, **routed_params.splitter.split)),\n\u001B[32m    985\u001B[39m     )\n\u001B[32m    986\u001B[39m )\n\u001B[32m    988\u001B[39m \u001B[38;5;28;01mif\u001B[39;00m \u001B[38;5;28mlen\u001B[39m(out) < \u001B[32m1\u001B[39m:\n\u001B[32m    989\u001B[39m     \u001B[38;5;28;01mraise\u001B[39;00m \u001B[38;5;167;01mValueError\u001B[39;00m(\n\u001B[32m    990\u001B[39m         \u001B[33m\"\u001B[39m\u001B[33mNo fits were performed. \u001B[39m\u001B[33m\"\u001B[39m\n\u001B[32m    991\u001B[39m         \u001B[33m\"\u001B[39m\u001B[33mWas the CV iterator empty? \u001B[39m\u001B[33m\"\u001B[39m\n\u001B[32m    992\u001B[39m         \u001B[33m\"\u001B[39m\u001B[33mWere there no candidates?\u001B[39m\u001B[33m\"\u001B[39m\n\u001B[32m    993\u001B[39m     )\n",
      "\u001B[36mFile \u001B[39m\u001B[32m~\\anaconda3\\envs\\DS\\Lib\\site-packages\\sklearn\\utils\\parallel.py:77\u001B[39m, in \u001B[36mParallel.__call__\u001B[39m\u001B[34m(self, iterable)\u001B[39m\n\u001B[32m     72\u001B[39m config = get_config()\n\u001B[32m     73\u001B[39m iterable_with_config = (\n\u001B[32m     74\u001B[39m     (_with_config(delayed_func, config), args, kwargs)\n\u001B[32m     75\u001B[39m     \u001B[38;5;28;01mfor\u001B[39;00m delayed_func, args, kwargs \u001B[38;5;129;01min\u001B[39;00m iterable\n\u001B[32m     76\u001B[39m )\n\u001B[32m---> \u001B[39m\u001B[32m77\u001B[39m \u001B[38;5;28;01mreturn\u001B[39;00m \u001B[38;5;28msuper\u001B[39m().\u001B[34m__call__\u001B[39m(iterable_with_config)\n",
      "\u001B[36mFile \u001B[39m\u001B[32m~\\anaconda3\\envs\\DS\\Lib\\site-packages\\joblib\\parallel.py:2007\u001B[39m, in \u001B[36mParallel.__call__\u001B[39m\u001B[34m(self, iterable)\u001B[39m\n\u001B[32m   2001\u001B[39m \u001B[38;5;66;03m# The first item from the output is blank, but it makes the interpreter\u001B[39;00m\n\u001B[32m   2002\u001B[39m \u001B[38;5;66;03m# progress until it enters the Try/Except block of the generator and\u001B[39;00m\n\u001B[32m   2003\u001B[39m \u001B[38;5;66;03m# reaches the first `yield` statement. This starts the asynchronous\u001B[39;00m\n\u001B[32m   2004\u001B[39m \u001B[38;5;66;03m# dispatch of the tasks to the workers.\u001B[39;00m\n\u001B[32m   2005\u001B[39m \u001B[38;5;28mnext\u001B[39m(output)\n\u001B[32m-> \u001B[39m\u001B[32m2007\u001B[39m \u001B[38;5;28;01mreturn\u001B[39;00m output \u001B[38;5;28;01mif\u001B[39;00m \u001B[38;5;28mself\u001B[39m.return_generator \u001B[38;5;28;01melse\u001B[39;00m \u001B[38;5;28mlist\u001B[39m(output)\n",
      "\u001B[36mFile \u001B[39m\u001B[32m~\\anaconda3\\envs\\DS\\Lib\\site-packages\\joblib\\parallel.py:1650\u001B[39m, in \u001B[36mParallel._get_outputs\u001B[39m\u001B[34m(self, iterator, pre_dispatch)\u001B[39m\n\u001B[32m   1647\u001B[39m     \u001B[38;5;28;01myield\u001B[39;00m\n\u001B[32m   1649\u001B[39m     \u001B[38;5;28;01mwith\u001B[39;00m \u001B[38;5;28mself\u001B[39m._backend.retrieval_context():\n\u001B[32m-> \u001B[39m\u001B[32m1650\u001B[39m         \u001B[38;5;28;01myield from\u001B[39;00m \u001B[38;5;28mself\u001B[39m._retrieve()\n\u001B[32m   1652\u001B[39m \u001B[38;5;28;01mexcept\u001B[39;00m \u001B[38;5;167;01mGeneratorExit\u001B[39;00m:\n\u001B[32m   1653\u001B[39m     \u001B[38;5;66;03m# The generator has been garbage collected before being fully\u001B[39;00m\n\u001B[32m   1654\u001B[39m     \u001B[38;5;66;03m# consumed. This aborts the remaining tasks if possible and warn\u001B[39;00m\n\u001B[32m   1655\u001B[39m     \u001B[38;5;66;03m# the user if necessary.\u001B[39;00m\n\u001B[32m   1656\u001B[39m     \u001B[38;5;28mself\u001B[39m._exception = \u001B[38;5;28;01mTrue\u001B[39;00m\n",
      "\u001B[36mFile \u001B[39m\u001B[32m~\\anaconda3\\envs\\DS\\Lib\\site-packages\\joblib\\parallel.py:1762\u001B[39m, in \u001B[36mParallel._retrieve\u001B[39m\u001B[34m(self)\u001B[39m\n\u001B[32m   1757\u001B[39m \u001B[38;5;66;03m# If the next job is not ready for retrieval yet, we just wait for\u001B[39;00m\n\u001B[32m   1758\u001B[39m \u001B[38;5;66;03m# async callbacks to progress.\u001B[39;00m\n\u001B[32m   1759\u001B[39m \u001B[38;5;28;01mif\u001B[39;00m ((\u001B[38;5;28mlen\u001B[39m(\u001B[38;5;28mself\u001B[39m._jobs) == \u001B[32m0\u001B[39m) \u001B[38;5;129;01mor\u001B[39;00m\n\u001B[32m   1760\u001B[39m     (\u001B[38;5;28mself\u001B[39m._jobs[\u001B[32m0\u001B[39m].get_status(\n\u001B[32m   1761\u001B[39m         timeout=\u001B[38;5;28mself\u001B[39m.timeout) == TASK_PENDING)):\n\u001B[32m-> \u001B[39m\u001B[32m1762\u001B[39m     time.sleep(\u001B[32m0.01\u001B[39m)\n\u001B[32m   1763\u001B[39m     \u001B[38;5;28;01mcontinue\u001B[39;00m\n\u001B[32m   1765\u001B[39m \u001B[38;5;66;03m# We need to be careful: the job list can be filling up as\u001B[39;00m\n\u001B[32m   1766\u001B[39m \u001B[38;5;66;03m# we empty it and Python list are not thread-safe by\u001B[39;00m\n\u001B[32m   1767\u001B[39m \u001B[38;5;66;03m# default hence the use of the lock\u001B[39;00m\n",
      "\u001B[31mKeyboardInterrupt\u001B[39m: "
     ]
    }
   ],
   "execution_count": 30
  },
  {
   "metadata": {
    "ExecuteTime": {
     "end_time": "2025-04-27T23:21:02.984575Z",
     "start_time": "2025-04-27T23:21:02.976696Z"
    }
   },
   "cell_type": "code",
   "source": "gcvs['kmeans_nmf'].best_score_",
   "id": "63d67bf26aa11953",
   "outputs": [
    {
     "data": {
      "text/plain": [
       "np.float64(0.9246582544689801)"
      ]
     },
     "execution_count": 1005,
     "metadata": {},
     "output_type": "execute_result"
    }
   ],
   "execution_count": 1005
  },
  {
   "metadata": {
    "ExecuteTime": {
     "end_time": "2025-04-27T23:21:10.620472Z",
     "start_time": "2025-04-27T23:21:02.991184Z"
    }
   },
   "cell_type": "code",
   "source": "gcvs['kmeans_nmf'].score(X_test50, y_test50)",
   "id": "e074da4cebdad5f9",
   "outputs": [
    {
     "name": "stdout",
     "output_type": "stream",
     "text": [
      "Predicting...\n"
     ]
    },
    {
     "name": "stderr",
     "output_type": "stream",
     "text": [
      "C:\\Users\\theru\\scoop\\apps\\anaconda3\\current\\App\\envs\\DS\\Lib\\site-packages\\sklearn\\pipeline.py:62: FutureWarning: This Pipeline instance is not fitted yet. Call 'fit' with appropriate arguments before using other methods such as transform, predict, etc. This will raise an error in 1.8 instead of the current warning.\n",
      "  warnings.warn(\n"
     ]
    },
    {
     "data": {
      "text/plain": [
       "0.9194006309148265"
      ]
     },
     "execution_count": 1006,
     "metadata": {},
     "output_type": "execute_result"
    }
   ],
   "execution_count": 1006
  },
  {
   "metadata": {
    "ExecuteTime": {
     "end_time": "2025-04-27T23:21:10.812647Z",
     "start_time": "2025-04-27T23:21:10.808511Z"
    }
   },
   "cell_type": "code",
   "source": "gcvs['kmeans_nmf'].best_params_",
   "id": "ccda48eed590bde",
   "outputs": [
    {
     "data": {
      "text/plain": [
       "{'kmeans__n_init': 1,\n",
       " 'kmeans__random_state': 27,\n",
       " 'nmf__init': 'nndsvda',\n",
       " 'nmf__max_iter': 1000,\n",
       " 'nmf__n_components': 8,\n",
       " 'nmf__random_state': 27,\n",
       " 'nmf__solver': 'cd',\n",
       " 'vectorizing__text__max_df': 0.99,\n",
       " 'vectorizing__text__max_features': 600,\n",
       " 'vectorizing__text__min_df': 1,\n",
       " 'vectorizing__text__ngram_range': (1, 2),\n",
       " 'vectorizing__title__max_df': 0.99,\n",
       " 'vectorizing__title__max_features': 600,\n",
       " 'vectorizing__title__min_df': 1,\n",
       " 'vectorizing__title__ngram_range': (1, 2)}"
      ]
     },
     "execution_count": 1007,
     "metadata": {},
     "output_type": "execute_result"
    }
   ],
   "execution_count": 1007
  },
  {
   "metadata": {
    "ExecuteTime": {
     "end_time": "2025-04-27T23:21:11.220041Z",
     "start_time": "2025-04-27T23:21:11.114844Z"
    }
   },
   "cell_type": "code",
   "source": [
    "\n",
    "df = pd.DataFrame(gcvs['kmeans_nmf'].cv_results_)\n",
    "sns.scatterplot(x='rank_test_score', y='mean_test_score', data=df)\n"
   ],
   "id": "a60d85c406558256",
   "outputs": [
    {
     "data": {
      "text/plain": [
       "<Axes: xlabel='rank_test_score', ylabel='mean_test_score'>"
      ]
     },
     "execution_count": 1008,
     "metadata": {},
     "output_type": "execute_result"
    },
    {
     "data": {
      "text/plain": [
       "<Figure size 640x480 with 1 Axes>"
      ],
      "image/png": "[encoded data removed]"
     },
     "metadata": {},
     "output_type": "display_data"
    }
   ],
   "execution_count": 1008
  },
  {
   "metadata": {},
   "cell_type": "code",
   "outputs": [],
   "execution_count": null,
   "source": "",
   "id": "3e321744aebdbd7c"
  }
 ],
 "metadata": {
  "kernelspec": {
   "display_name": "Python 3",
   "language": "python",
   "name": "python3"
  },
  "language_info": {
   "codemirror_mode": {
    "name": "ipython",
    "version": 2
   },
   "file_extension": ".py",
   "mimetype": "text/x-python",
   "name": "python",
   "nbconvert_exporter": "python",
   "pygments_lexer": "ipython2",
   "version": "2.7.6"
  }
 },
 "nbformat": 4,
 "nbformat_minor": 5
}
